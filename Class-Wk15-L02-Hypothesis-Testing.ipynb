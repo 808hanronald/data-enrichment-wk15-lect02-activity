{
 "cells": [
  {
   "cell_type": "markdown",
   "id": "d699350b",
   "metadata": {},
   "source": [
    "# Week 15, Lecture 02 CodeAlong: Hypothesis Testing"
   ]
  },
  {
   "cell_type": "markdown",
   "id": "028cec6c",
   "metadata": {},
   "source": [
    "- xx/xx/xx"
   ]
  },
  {
   "cell_type": "markdown",
   "id": "f13e63e9",
   "metadata": {},
   "source": [
    "Today, we will be analyzing data from the Crowdfunding website Kiva and answering several questions about the data.\n",
    "\n",
    "- Use your hypothesis testing skills and the  [\"Guide: Choosing the Right Hypothesis Test\"](https://login.codingdojo.com/m/376/12533/88117) lesson from the LP.\n",
    "    \n",
    "\n",
    "- Kiva Crowdfunding Data Set:\n",
    "    -  https://www.kaggle.com/datasets/kiva/data-science-for-good-kiva-crowdfunding \n",
    "\n"
   ]
  },
  {
   "cell_type": "markdown",
   "id": "d22c6aa9",
   "metadata": {},
   "source": [
    "### Questions to Answer"
   ]
  },
  {
   "cell_type": "markdown",
   "id": "e1613f1a",
   "metadata": {},
   "source": [
    "- Q1: Do all-male teams get more funding vs teams that include at least 1 female?\n",
    "- Q2: Do different sectors get more/less funding?"
   ]
  },
  {
   "cell_type": "markdown",
   "id": "118ab3ca",
   "metadata": {},
   "source": [
    "# Hypothesis Testing"
   ]
  },
  {
   "cell_type": "code",
   "execution_count": null,
   "id": "892936f6",
   "metadata": {},
   "outputs": [],
   "source": [
    "import json\n",
    "import pandas as pd\n",
    "import numpy as np\n",
    "\n",
    "import matplotlib.pyplot as plt\n",
    "import seaborn as sns\n",
    "\n",
    "from scipy import stats\n",
    "import scipy\n",
    "scipy.__version__"
   ]
  },
  {
   "cell_type": "code",
   "execution_count": null,
   "id": "20ff0592",
   "metadata": {},
   "outputs": [],
   "source": [
    "## load the kiva_loans.csv. display info and head\n",
    "df = pd.read_csv('Data/kiva_loans.csv.gz')\n",
    "df.info()\n",
    "df.head()"
   ]
  },
  {
   "cell_type": "code",
   "execution_count": null,
   "id": "635b5d1c",
   "metadata": {},
   "outputs": [],
   "source": [
    "## Drop null values from related columns\n",
    "df = df.dropna(subset=['borrower_genders','funded_amount'])\n",
    "\n",
    "# Setting the id as the index\n",
    "df = df.set_index('id')\n",
    "df.info()\n",
    "df.head()"
   ]
  },
  {
   "cell_type": "markdown",
   "id": "23c86ada",
   "metadata": {},
   "source": [
    "# Q1:  Do all-male teams get more funding vs teams that include at least 1 female?"
   ]
  },
  {
   "cell_type": "markdown",
   "id": "6cda1c2a",
   "metadata": {},
   "source": [
    "## 1. State the Hypothesis & Null Hypothesis "
   ]
  },
  {
   "cell_type": "markdown",
   "id": "99032d8e",
   "metadata": {},
   "source": [
    "- $H_0$ (Null Hypothesis):All the teams get the same funding based on gender\n",
    "- $H_A$ (Alternative Hypothesis):  All male teams get more funding (There is a significant difference in funding)"
   ]
  },
  {
   "cell_type": "markdown",
   "id": "a06a0a19",
   "metadata": {},
   "source": [
    "## 2. Determine the correct test to perform.\n",
    "- Type of Data?Numeric\n",
    "- How many groups/samples? 2 groups \n",
    "- Therefore, which test is appropriate? 2 sample T test"
   ]
  },
  {
   "cell_type": "markdown",
   "id": "bc3ec916",
   "metadata": {},
   "source": [
    "### Visualize and separate data for hypothesis"
   ]
  },
  {
   "cell_type": "markdown",
   "id": "934fd107",
   "metadata": {},
   "source": [
    "- What column is our target?\n",
    "- What column determines our groups?"
   ]
  },
  {
   "cell_type": "code",
   "execution_count": null,
   "id": "5001f922",
   "metadata": {},
   "outputs": [],
   "source": [
    "## check the col that contains info on gender\n",
    "df['borrower_genders'].value_counts()"
   ]
  },
  {
   "cell_type": "code",
   "execution_count": null,
   "id": "44463923",
   "metadata": {},
   "outputs": [],
   "source": [
    "## create a column that easily separates our groups\n",
    "df['has_female'] = df['borrower_genders'].str.contains('female')\n",
    "df['has_female'].value_counts()"
   ]
  },
  {
   "cell_type": "code",
   "execution_count": null,
   "id": "8c8ee587",
   "metadata": {},
   "outputs": [],
   "source": [
    "## save list of columns needed for each group\n",
    "needed_cols = ['funded_amount','has_female']\n",
    "df[needed_cols]"
   ]
  },
  {
   "cell_type": "code",
   "execution_count": null,
   "id": "12415b31",
   "metadata": {},
   "outputs": [],
   "source": [
    "## save male team in separate variable\n",
    "male_df = df.loc[df['has_female']==False,needed_cols]\n",
    "male_df"
   ]
  },
  {
   "cell_type": "code",
   "execution_count": null,
   "id": "a114459b",
   "metadata": {},
   "outputs": [],
   "source": [
    "## save female team in separate variables\n",
    "female_df = df.loc[ df['has_female']==True, needed_cols]\n",
    "female_df"
   ]
  },
  {
   "cell_type": "code",
   "execution_count": null,
   "id": "cd5e3c6f",
   "metadata": {},
   "outputs": [],
   "source": [
    "## Make a df just for visualization by concat the groups \n",
    "plot_df =  pd.concat([male_df,female_df])\n",
    "plot_df"
   ]
  },
  {
   "cell_type": "code",
   "execution_count": null,
   "id": "e2166acd",
   "metadata": {},
   "outputs": [],
   "source": [
    "\n",
    "## visualize the group means\n",
    "sns.barplot(data=plot_df,x='has_female',y='funded_amount')"
   ]
  },
  {
   "cell_type": "markdown",
   "id": "9941c848",
   "metadata": {},
   "source": [
    "## 3. Testing Assumptions"
   ]
  },
  {
   "cell_type": "markdown",
   "id": "3a38e3a8",
   "metadata": {},
   "source": [
    "- No significant outliers\n",
    "- Normality\n",
    "- Equal Variance"
   ]
  },
  {
   "cell_type": "markdown",
   "id": "40af28da",
   "metadata": {},
   "source": [
    "### Checking Assumption of No Sig. Outliers"
   ]
  },
  {
   "cell_type": "code",
   "execution_count": null,
   "id": "9a90f384",
   "metadata": {
    "scrolled": true
   },
   "outputs": [],
   "source": [
    "## Saving JUST the numeric col as final group variables\n",
    "male_group = male_df['funded_amount']\n",
    "female_group = female_df['funded_amount']\n",
    "male_group\n"
   ]
  },
  {
   "cell_type": "code",
   "execution_count": null,
   "id": "d10ea51e",
   "metadata": {},
   "outputs": [],
   "source": [
    "## Check female group for outliers\n",
    "female_outliers = np.abs(stats.zscore(female_group))>3\n",
    "\n",
    "## how many outliers?\n",
    "female_outliers.value_counts()"
   ]
  },
  {
   "cell_type": "code",
   "execution_count": null,
   "id": "1aef7c00",
   "metadata": {},
   "outputs": [],
   "source": [
    "## remove outliers from female_group\n",
    "female_group = female_group[~female_outliers]"
   ]
  },
  {
   "cell_type": "code",
   "execution_count": null,
   "id": "45506df5",
   "metadata": {},
   "outputs": [],
   "source": [
    "## Check female group for outliers\n",
    "male_outliers = np.abs(stats.zscore(male_group))>3\n",
    "\n",
    "## how many outliers?\n",
    "male_outliers.value_counts()\n"
   ]
  },
  {
   "cell_type": "code",
   "execution_count": null,
   "id": "00de8a09",
   "metadata": {},
   "outputs": [],
   "source": [
    "## remove outliers from female_group\n",
    "male_group = male_group[~male_outliers]\n",
    "male_group"
   ]
  },
  {
   "cell_type": "markdown",
   "id": "2f80bec1",
   "metadata": {},
   "source": [
    "### Test for Normality"
   ]
  },
  {
   "cell_type": "code",
   "execution_count": null,
   "id": "7dbac26c",
   "metadata": {},
   "outputs": [],
   "source": [
    "## Check female group for normality\n",
    "result = stats.normaltest(female_group)\n",
    "result"
   ]
  },
  {
   "cell_type": "code",
   "execution_count": null,
   "id": "88e8fb3c",
   "metadata": {},
   "outputs": [],
   "source": [
    "## Check n for female group\n",
    "len(female_group)\n",
    "## Check n for male group\n",
    "len(male_group)"
   ]
  },
  {
   "cell_type": "code",
   "execution_count": null,
   "id": "4cb1c02d",
   "metadata": {
    "scrolled": true
   },
   "outputs": [],
   "source": [
    "## Check male group for normality\n"
   ]
  },
  {
   "cell_type": "code",
   "execution_count": null,
   "id": "8051e5a8",
   "metadata": {},
   "outputs": [],
   "source": [
    "## Check n for male group\n"
   ]
  },
  {
   "cell_type": "markdown",
   "id": "3c5fa24f",
   "metadata": {},
   "source": [
    "- Did we meet the assumption? "
   ]
  },
  {
   "cell_type": "markdown",
   "id": "f41351ba",
   "metadata": {},
   "source": [
    "### Test for Equal Variances"
   ]
  },
  {
   "cell_type": "code",
   "execution_count": null,
   "id": "559ed7c3",
   "metadata": {},
   "outputs": [],
   "source": [
    "## Use Levene's test for equal variance\n",
    "result= stats.levene(female_group,male_group)\n",
    "result.pvalue <0.05"
   ]
  },
  {
   "cell_type": "code",
   "execution_count": null,
   "id": "7211dffc",
   "metadata": {
    "scrolled": true
   },
   "outputs": [],
   "source": [
    "## Use an if-else to help interpret the p-value\n",
    "if result.pvalue <.05:\n",
    "    print('The groups DO NOT have equal variance')\n",
    "else:\n",
    "    print('The groups DO have equal variance')"
   ]
  },
  {
   "cell_type": "markdown",
   "id": "54acf417",
   "metadata": {},
   "source": [
    "- Did we meet the assumptions?"
   ]
  },
  {
   "cell_type": "markdown",
   "id": "42d92738",
   "metadata": {},
   "source": [
    "## Final Hypothesis Test"
   ]
  },
  {
   "cell_type": "markdown",
   "id": "39981a0e",
   "metadata": {},
   "source": [
    "- Did we meet our test's assumptions? \n",
    "    - If not, what is the alternative test?"
   ]
  },
  {
   "cell_type": "code",
   "execution_count": null,
   "id": "bf0d8280",
   "metadata": {},
   "outputs": [],
   "source": [
    "## run final hypothess test\n",
    "result = stats.ttest_ind(female_group,male_group,equal_var=False)\n",
    "result.pvalue <0.05"
   ]
  },
  {
   "cell_type": "code",
   "execution_count": null,
   "id": "1902d296",
   "metadata": {},
   "outputs": [],
   "source": [
    "## make a plot or calcualte group means to know which group had more/less.\n",
    "female_group.mean()"
   ]
  },
  {
   "cell_type": "code",
   "execution_count": null,
   "id": "09e3675a",
   "metadata": {},
   "outputs": [],
   "source": [
    "male_group.mean()"
   ]
  },
  {
   "cell_type": "markdown",
   "id": "41d13f96",
   "metadata": {},
   "source": [
    "- Final Conclusion:\n",
    "    - p value<0.05 for the test so we reject the null hypothesis and support alternative hypothesis. \n",
    "    - teams with at least one female receives less funding amount than teams with all males. "
   ]
  },
  {
   "cell_type": "markdown",
   "id": "dc5432e3",
   "metadata": {},
   "source": [
    "# Q2: Do different sectors get more/less funding?"
   ]
  },
  {
   "cell_type": "markdown",
   "id": "7a345561",
   "metadata": {},
   "source": [
    "## 1. State the Hypothesis & Null Hypothesis "
   ]
  },
  {
   "cell_type": "markdown",
   "id": "0c9a6ead",
   "metadata": {},
   "source": [
    "- $H_0$ (Null Hypothesis): There is no difference between funded amounts for different sectors.\n",
    "- $H_A$ (Alternative Hypothesis):  There is a significant difference between funded amounts for different sectors."
   ]
  },
  {
   "cell_type": "markdown",
   "id": "5f28bc93",
   "metadata": {},
   "source": [
    "## 2. Determine the correct test to perform."
   ]
  },
  {
   "cell_type": "markdown",
   "id": "c4159c7d",
   "metadata": {},
   "source": [
    "- Type of Data?\n",
    "- How many groups/samples?\n",
    "- Therefore, which test is appropriate?"
   ]
  },
  {
   "cell_type": "code",
   "execution_count": null,
   "id": "05c1e58c",
   "metadata": {},
   "outputs": [],
   "source": [
    "## how many sectors?\n",
    "df['sector'].unique()"
   ]
  },
  {
   "cell_type": "markdown",
   "id": "fe9c8684",
   "metadata": {},
   "source": [
    "### Visualize and separate data for hypothesis"
   ]
  },
  {
   "cell_type": "markdown",
   "id": "e89aeb74",
   "metadata": {},
   "source": [
    "- What column is our target?\n",
    "- What column determines our groups?"
   ]
  },
  {
   "cell_type": "code",
   "execution_count": null,
   "id": "f0859820",
   "metadata": {},
   "outputs": [],
   "source": [
    "## barplot\n",
    "ax = sns.barplot(data=df,x='sector',y='funded_amount')\n",
    "ax.set_xticklabels(ax.get_xticklabels(), rotation=45, ha='right');"
   ]
  },
  {
   "cell_type": "code",
   "execution_count": null,
   "id": "02270db9",
   "metadata": {},
   "outputs": [],
   "source": [
    "needed_cols = ['sector','funded_amount']\n",
    "df[needed_cols]"
   ]
  },
  {
   "cell_type": "code",
   "execution_count": null,
   "id": "b76d26f0",
   "metadata": {},
   "outputs": [],
   "source": [
    "## Create a dictionary with each group as key and funded_amount as values\n"
   ]
  },
  {
   "cell_type": "code",
   "execution_count": null,
   "id": "29b81d40",
   "metadata": {},
   "outputs": [],
   "source": [
    "## check one of the sectors in the dict\n"
   ]
  },
  {
   "cell_type": "markdown",
   "id": "31139f54",
   "metadata": {},
   "source": [
    "## 3. Testing Assumptions"
   ]
  },
  {
   "cell_type": "markdown",
   "id": "34626476",
   "metadata": {},
   "source": [
    "- No significant outliers\n",
    "- Normality\n",
    "- Equal Variance"
   ]
  },
  {
   "cell_type": "markdown",
   "id": "c1b834a8",
   "metadata": {},
   "source": [
    "### Checking Assumption of No Sig. Outliers"
   ]
  },
  {
   "cell_type": "code",
   "execution_count": null,
   "id": "3a7882d2",
   "metadata": {},
   "outputs": [],
   "source": [
    "# check for one sector outlier\n",
    "\n",
    "temp = np.abs(stats.zscore(groups['Personal Use'])) > 3\n",
    "temp.value_counts()"
   ]
  },
  {
   "cell_type": "code",
   "execution_count": null,
   "id": "a32ad813",
   "metadata": {},
   "outputs": [],
   "source": [
    "## Loop through groups dict\n",
    "for sector, data in groups.items():\n",
    "    ## determine if there are any outliers\n",
    "    outliers = np.abs(stats.zscore(data)) > 3\n",
    "    ## print a statement about how many outliers for which group name\n",
    "    print(f\"There were {outliers.sum()} outliers in the {sector} group.\")\n",
    "    ## Remove the outiers from data and overwrite the sector data in the dict\n",
    "    data = data.loc[~outliers]\n",
    "    groups[sector] = data"
   ]
  },
  {
   "cell_type": "markdown",
   "id": "13e13bdd",
   "metadata": {},
   "source": [
    "### Test for Normality"
   ]
  },
  {
   "cell_type": "code",
   "execution_count": null,
   "id": "bca84127",
   "metadata": {},
   "outputs": [],
   "source": [
    "# you can use stats.normaltest for each group separately or use the loop\n",
    "stats.normaltest(groups['Food']).pvalue <0.5"
   ]
  },
  {
   "cell_type": "code",
   "execution_count": null,
   "id": "a0414c2c",
   "metadata": {},
   "outputs": [],
   "source": [
    "## Running normal test on each group and confirming there are >20 in each group\n",
    "\n",
    "## Save a list with an inner list of column names\n",
    "norm_results = [['group','n','pval','sig?']]\n",
    "\n",
    "\n",
    "## loop through group dict\n",
    "for sector, data in groups.items():\n",
    "    ## calculate normaltest results\n",
    "    stat, p = stats.normaltest(data)\n",
    "    \n",
    "    ## Append the right info into norm_resutls (as a list)\n",
    "    norm_results.append([sector,len(data), p, p<.05])\n",
    "    \n",
    "    \n",
    "## Make norm_results a dataframe (first row is columns, everything else data)\n",
    "normal_results = pd.DataFrame(norm_results[1:], columns = norm_results[0])\n",
    "normal_results\n"
   ]
  },
  {
   "cell_type": "markdown",
   "id": "c9babaef",
   "metadata": {},
   "source": [
    "- Did we meet the assumption?"
   ]
  },
  {
   "cell_type": "markdown",
   "id": "f243a55e",
   "metadata": {},
   "source": [
    "### Test for Equal Variances"
   ]
  },
  {
   "cell_type": "code",
   "execution_count": null,
   "id": "47d696a2",
   "metadata": {},
   "outputs": [],
   "source": [
    "## DEMO: using the * operator to unpack lists\n",
    "a_list = ['a','b','c']\n",
    "b_list = [1,2,3]\n",
    "new_list= [*a_list, *b_list]\n",
    "new_list"
   ]
  },
  {
   "cell_type": "code",
   "execution_count": null,
   "id": "4aa7d6a1",
   "metadata": {},
   "outputs": [],
   "source": [
    "## Use Levene's test for equal variance\n",
    "result = stats.levene(*groups.values())\n",
    "print(result)"
   ]
  },
  {
   "cell_type": "code",
   "execution_count": null,
   "id": "cf11dad4",
   "metadata": {
    "scrolled": true
   },
   "outputs": [],
   "source": [
    "## Use an if-else to help interpret the p-value\n",
    "if result.pvalue < .05:\n",
    "    print(f\"The groups do NOT have equal variance.\")\n",
    "else:\n",
    "    print(f\"The groups DO have equal variance.\")"
   ]
  },
  {
   "cell_type": "markdown",
   "id": "325cde49",
   "metadata": {},
   "source": [
    "- Did we meet the assumption?\n"
   ]
  },
  {
   "cell_type": "markdown",
   "id": "be52dca4",
   "metadata": {},
   "source": [
    "## Final Hypothesis Test"
   ]
  },
  {
   "cell_type": "markdown",
   "id": "b0e81240",
   "metadata": {},
   "source": [
    "- Did we meet our test's assumptions? \n",
    "    - If not, what is the alternative test?"
   ]
  },
  {
   "cell_type": "code",
   "execution_count": null,
   "id": "5ecec705",
   "metadata": {},
   "outputs": [],
   "source": [
    "## Running Krukal Test for Original Hypothesis\n",
    "result = stats.kruskal(*groups.values())\n",
    "print(result)\n",
    "result.pvalue<.05"
   ]
  },
  {
   "cell_type": "markdown",
   "id": "e65818dc",
   "metadata": {},
   "source": [
    "- Interpret Results. Did we have a significant result?\n",
    "- Is a post-hoc test needed?"
   ]
  },
  {
   "cell_type": "markdown",
   "id": "2a8f8677",
   "metadata": {},
   "source": [
    "### Post-Hoc Multiple Comparison Test"
   ]
  },
  {
   "cell_type": "code",
   "execution_count": null,
   "id": "7a77b743",
   "metadata": {},
   "outputs": [],
   "source": [
    "## Post Hoc\n",
    "from statsmodels.stats.multicomp import pairwise_tukeyhsd"
   ]
  },
  {
   "cell_type": "markdown",
   "id": "4695814b",
   "metadata": {},
   "source": [
    "- Tukey's test requires a list of group names and a list of measured values. \n",
    "- Easiest way to produce and visualize this is to make our groups dict into a dataframe "
   ]
  },
  {
   "cell_type": "markdown",
   "id": "9960ab87",
   "metadata": {},
   "source": [
    "#### Testing Converting our Dictionary to a DataFrame"
   ]
  },
  {
   "cell_type": "code",
   "execution_count": null,
   "id": "289baa32",
   "metadata": {
    "scrolled": true
   },
   "outputs": [],
   "source": [
    "## slice a test sector\n",
    "temp = None\n"
   ]
  },
  {
   "cell_type": "code",
   "execution_count": null,
   "id": "ba09d1cd",
   "metadata": {
    "scrolled": true
   },
   "outputs": [],
   "source": [
    "## test making a dataframe from the test sector and filling in the sector name\n"
   ]
  },
  {
   "cell_type": "markdown",
   "id": "f86e79c8",
   "metadata": {},
   "source": [
    "#### Preparing the new dataframe for Tukey's test in a looop"
   ]
  },
  {
   "cell_type": "code",
   "execution_count": null,
   "id": "427cfe9b",
   "metadata": {
    "scrolled": true
   },
   "outputs": [],
   "source": [
    "## make a list for saving the dataframes to\n",
    "\n",
    "\n",
    "## Loop through groups dict's items\n",
    "\n",
    "\n",
    "    ## make a temp_df with the data and the sector name\n",
    "    \n",
    "    ## append to tukeys_dfs\n",
    "    \n",
    "## concatenate them into 1 dataframe    \n"
   ]
  },
  {
   "cell_type": "code",
   "execution_count": null,
   "id": "23d4e18d",
   "metadata": {
    "scrolled": false
   },
   "outputs": [],
   "source": [
    "## save the values as kg_lost and the labels to the Diet\n",
    "values = None\n",
    "labels = None\n",
    "\n",
    "## perform tukey's multiple comparison test and display the summary\n",
    "tukeys_results = None\n"
   ]
  },
  {
   "cell_type": "code",
   "execution_count": null,
   "id": "2dbb021c",
   "metadata": {},
   "outputs": [],
   "source": [
    "## optional -slicing out dataframe from results"
   ]
  },
  {
   "cell_type": "code",
   "execution_count": null,
   "id": "4f9e5cff",
   "metadata": {
    "scrolled": true
   },
   "outputs": [],
   "source": [
    "## make a barplot of final data to go with results\n"
   ]
  },
  {
   "cell_type": "code",
   "execution_count": null,
   "id": "a79d75fe",
   "metadata": {
    "scrolled": false
   },
   "outputs": [],
   "source": [
    "## also can use built-in plot tukeys_reuslts.plot_simultaneous\n"
   ]
  },
  {
   "cell_type": "markdown",
   "id": "e69374b6",
   "metadata": {},
   "source": [
    "- Final summary of group differences"
   ]
  }
 ],
 "metadata": {
  "kernelspec": {
   "display_name": "Python (dojo-env)",
   "language": "python",
   "name": "dojo-env"
  },
  "language_info": {
   "codemirror_mode": {
    "name": "ipython",
    "version": 3
   },
   "file_extension": ".py",
   "mimetype": "text/x-python",
   "name": "python",
   "nbconvert_exporter": "python",
   "pygments_lexer": "ipython3",
   "version": "3.8.13"
  },
  "toc": {
   "base_numbering": 1,
   "nav_menu": {},
   "number_sections": false,
   "sideBar": true,
   "skip_h1_title": false,
   "title_cell": "Table of Contents",
   "title_sidebar": "Contents",
   "toc_cell": false,
   "toc_position": {
    "height": "calc(100% - 180px)",
    "left": "10px",
    "top": "150px",
    "width": "172.188px"
   },
   "toc_section_display": true,
   "toc_window_display": true
  }
 },
 "nbformat": 4,
 "nbformat_minor": 5
}
