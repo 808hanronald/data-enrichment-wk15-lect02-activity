{
 "cells": [
  {
   "cell_type": "markdown",
   "id": "d699350b",
   "metadata": {},
   "source": [
    "# Week 15, Lecture 02 CodeAlong: Hypothesis Testing"
   ]
  },
  {
   "cell_type": "markdown",
   "id": "028cec6c",
   "metadata": {},
   "source": [
    "- xx/xx/xx"
   ]
  },
  {
   "cell_type": "markdown",
   "id": "f13e63e9",
   "metadata": {},
   "source": [
    "Today, we will be analyzing data from the Crowdfunding website Kiva and answering several questions about the data.\n",
    "\n",
    "- Use your hypothesis testing skills and the  [\"Guide: Choosing the Right Hypothesis Test\"](https://login.codingdojo.com/m/376/12533/88117) lesson from the LP.\n",
    "    \n",
    "\n",
    "- Kiva Crowdfunding Data Set:\n",
    "    -  https://www.kaggle.com/datasets/kiva/data-science-for-good-kiva-crowdfunding \n",
    "\n"
   ]
  },
  {
   "cell_type": "markdown",
   "id": "d22c6aa9",
   "metadata": {},
   "source": [
    "### Questions to Answer"
   ]
  },
  {
   "cell_type": "markdown",
   "id": "e1613f1a",
   "metadata": {},
   "source": [
    "- Q1: Do all-male teams get more funding vs teams that include at least 1 female?\n",
    "- Q2: Do different sectors get more/less funding?"
   ]
  },
  {
   "cell_type": "markdown",
   "id": "118ab3ca",
   "metadata": {},
   "source": [
    "# Hypothesis Testing"
   ]
  },
  {
   "cell_type": "code",
   "execution_count": 1,
   "id": "892936f6",
   "metadata": {},
   "outputs": [
    {
     "data": {
      "text/plain": [
       "'1.8.0'"
      ]
     },
     "execution_count": 1,
     "metadata": {},
     "output_type": "execute_result"
    }
   ],
   "source": [
    "import json\n",
    "import pandas as pd\n",
    "import numpy as np\n",
    "\n",
    "import matplotlib.pyplot as plt\n",
    "import seaborn as sns\n",
    "\n",
    "from scipy import stats\n",
    "import scipy\n",
    "scipy.__version__"
   ]
  },
  {
   "cell_type": "code",
   "execution_count": 2,
   "id": "20ff0592",
   "metadata": {},
   "outputs": [
    {
     "name": "stdout",
     "output_type": "stream",
     "text": [
      "<class 'pandas.core.frame.DataFrame'>\n",
      "RangeIndex: 666984 entries, 0 to 666983\n",
      "Data columns (total 20 columns):\n",
      " #   Column              Non-Null Count   Dtype  \n",
      "---  ------              --------------   -----  \n",
      " 0   id                  666984 non-null  int64  \n",
      " 1   funded_amount       666984 non-null  float64\n",
      " 2   loan_amount         666984 non-null  float64\n",
      " 3   activity            666984 non-null  object \n",
      " 4   sector              666984 non-null  object \n",
      " 5   use                 666973 non-null  object \n",
      " 6   country_code        666976 non-null  object \n",
      " 7   country             666984 non-null  object \n",
      " 8   region              614405 non-null  object \n",
      " 9   currency            666984 non-null  object \n",
      " 10  partner_id          653896 non-null  float64\n",
      " 11  posted_time         666984 non-null  object \n",
      " 12  disbursed_time      665003 non-null  object \n",
      " 13  funded_time         619335 non-null  object \n",
      " 14  term_in_months      666984 non-null  float64\n",
      " 15  lender_count        666984 non-null  int64  \n",
      " 16  tags                496877 non-null  object \n",
      " 17  borrower_genders    666984 non-null  object \n",
      " 18  repayment_interval  666984 non-null  object \n",
      " 19  date                666984 non-null  object \n",
      "dtypes: float64(4), int64(2), object(14)\n",
      "memory usage: 101.8+ MB\n"
     ]
    },
    {
     "data": {
      "text/html": [
       "<div>\n",
       "<style scoped>\n",
       "    .dataframe tbody tr th:only-of-type {\n",
       "        vertical-align: middle;\n",
       "    }\n",
       "\n",
       "    .dataframe tbody tr th {\n",
       "        vertical-align: top;\n",
       "    }\n",
       "\n",
       "    .dataframe thead th {\n",
       "        text-align: right;\n",
       "    }\n",
       "</style>\n",
       "<table border=\"1\" class=\"dataframe\">\n",
       "  <thead>\n",
       "    <tr style=\"text-align: right;\">\n",
       "      <th></th>\n",
       "      <th>id</th>\n",
       "      <th>funded_amount</th>\n",
       "      <th>loan_amount</th>\n",
       "      <th>activity</th>\n",
       "      <th>sector</th>\n",
       "      <th>use</th>\n",
       "      <th>country_code</th>\n",
       "      <th>country</th>\n",
       "      <th>region</th>\n",
       "      <th>currency</th>\n",
       "      <th>partner_id</th>\n",
       "      <th>posted_time</th>\n",
       "      <th>disbursed_time</th>\n",
       "      <th>funded_time</th>\n",
       "      <th>term_in_months</th>\n",
       "      <th>lender_count</th>\n",
       "      <th>tags</th>\n",
       "      <th>borrower_genders</th>\n",
       "      <th>repayment_interval</th>\n",
       "      <th>date</th>\n",
       "    </tr>\n",
       "  </thead>\n",
       "  <tbody>\n",
       "    <tr>\n",
       "      <th>0</th>\n",
       "      <td>653051</td>\n",
       "      <td>300.0</td>\n",
       "      <td>300.0</td>\n",
       "      <td>Fruits &amp; Vegetables</td>\n",
       "      <td>Food</td>\n",
       "      <td>To buy seasonal, fresh fruits to sell.</td>\n",
       "      <td>PK</td>\n",
       "      <td>Pakistan</td>\n",
       "      <td>Lahore</td>\n",
       "      <td>PKR</td>\n",
       "      <td>247.0</td>\n",
       "      <td>2014-01-01 06:12:39+00:00</td>\n",
       "      <td>2013-12-17 08:00:00+00:00</td>\n",
       "      <td>2014-01-02 10:06:32+00:00</td>\n",
       "      <td>12.0</td>\n",
       "      <td>12</td>\n",
       "      <td>NaN</td>\n",
       "      <td>female</td>\n",
       "      <td>irregular</td>\n",
       "      <td>2014-01-01</td>\n",
       "    </tr>\n",
       "    <tr>\n",
       "      <th>1</th>\n",
       "      <td>653053</td>\n",
       "      <td>575.0</td>\n",
       "      <td>575.0</td>\n",
       "      <td>Rickshaw</td>\n",
       "      <td>Transportation</td>\n",
       "      <td>to repair and maintain the auto rickshaw used ...</td>\n",
       "      <td>PK</td>\n",
       "      <td>Pakistan</td>\n",
       "      <td>Lahore</td>\n",
       "      <td>PKR</td>\n",
       "      <td>247.0</td>\n",
       "      <td>2014-01-01 06:51:08+00:00</td>\n",
       "      <td>2013-12-17 08:00:00+00:00</td>\n",
       "      <td>2014-01-02 09:17:23+00:00</td>\n",
       "      <td>11.0</td>\n",
       "      <td>14</td>\n",
       "      <td>NaN</td>\n",
       "      <td>female, female</td>\n",
       "      <td>irregular</td>\n",
       "      <td>2014-01-01</td>\n",
       "    </tr>\n",
       "    <tr>\n",
       "      <th>2</th>\n",
       "      <td>653068</td>\n",
       "      <td>150.0</td>\n",
       "      <td>150.0</td>\n",
       "      <td>Transportation</td>\n",
       "      <td>Transportation</td>\n",
       "      <td>To repair their old cycle-van and buy another ...</td>\n",
       "      <td>IN</td>\n",
       "      <td>India</td>\n",
       "      <td>Maynaguri</td>\n",
       "      <td>INR</td>\n",
       "      <td>334.0</td>\n",
       "      <td>2014-01-01 09:58:07+00:00</td>\n",
       "      <td>2013-12-17 08:00:00+00:00</td>\n",
       "      <td>2014-01-01 16:01:36+00:00</td>\n",
       "      <td>43.0</td>\n",
       "      <td>6</td>\n",
       "      <td>user_favorite, user_favorite</td>\n",
       "      <td>female</td>\n",
       "      <td>bullet</td>\n",
       "      <td>2014-01-01</td>\n",
       "    </tr>\n",
       "    <tr>\n",
       "      <th>3</th>\n",
       "      <td>653063</td>\n",
       "      <td>200.0</td>\n",
       "      <td>200.0</td>\n",
       "      <td>Embroidery</td>\n",
       "      <td>Arts</td>\n",
       "      <td>to purchase an embroidery machine and a variet...</td>\n",
       "      <td>PK</td>\n",
       "      <td>Pakistan</td>\n",
       "      <td>Lahore</td>\n",
       "      <td>PKR</td>\n",
       "      <td>247.0</td>\n",
       "      <td>2014-01-01 08:03:11+00:00</td>\n",
       "      <td>2013-12-24 08:00:00+00:00</td>\n",
       "      <td>2014-01-01 13:00:00+00:00</td>\n",
       "      <td>11.0</td>\n",
       "      <td>8</td>\n",
       "      <td>NaN</td>\n",
       "      <td>female</td>\n",
       "      <td>irregular</td>\n",
       "      <td>2014-01-01</td>\n",
       "    </tr>\n",
       "    <tr>\n",
       "      <th>4</th>\n",
       "      <td>653084</td>\n",
       "      <td>400.0</td>\n",
       "      <td>400.0</td>\n",
       "      <td>Milk Sales</td>\n",
       "      <td>Food</td>\n",
       "      <td>to purchase one buffalo.</td>\n",
       "      <td>PK</td>\n",
       "      <td>Pakistan</td>\n",
       "      <td>Abdul Hakeem</td>\n",
       "      <td>PKR</td>\n",
       "      <td>245.0</td>\n",
       "      <td>2014-01-01 11:53:19+00:00</td>\n",
       "      <td>2013-12-17 08:00:00+00:00</td>\n",
       "      <td>2014-01-01 19:18:51+00:00</td>\n",
       "      <td>14.0</td>\n",
       "      <td>16</td>\n",
       "      <td>NaN</td>\n",
       "      <td>female</td>\n",
       "      <td>monthly</td>\n",
       "      <td>2014-01-01</td>\n",
       "    </tr>\n",
       "  </tbody>\n",
       "</table>\n",
       "</div>"
      ],
      "text/plain": [
       "       id  funded_amount  loan_amount             activity          sector  \\\n",
       "0  653051          300.0        300.0  Fruits & Vegetables            Food   \n",
       "1  653053          575.0        575.0             Rickshaw  Transportation   \n",
       "2  653068          150.0        150.0       Transportation  Transportation   \n",
       "3  653063          200.0        200.0           Embroidery            Arts   \n",
       "4  653084          400.0        400.0           Milk Sales            Food   \n",
       "\n",
       "                                                 use country_code   country  \\\n",
       "0            To buy seasonal, fresh fruits to sell.            PK  Pakistan   \n",
       "1  to repair and maintain the auto rickshaw used ...           PK  Pakistan   \n",
       "2  To repair their old cycle-van and buy another ...           IN     India   \n",
       "3  to purchase an embroidery machine and a variet...           PK  Pakistan   \n",
       "4                           to purchase one buffalo.           PK  Pakistan   \n",
       "\n",
       "         region currency  partner_id                posted_time  \\\n",
       "0        Lahore      PKR       247.0  2014-01-01 06:12:39+00:00   \n",
       "1        Lahore      PKR       247.0  2014-01-01 06:51:08+00:00   \n",
       "2     Maynaguri      INR       334.0  2014-01-01 09:58:07+00:00   \n",
       "3        Lahore      PKR       247.0  2014-01-01 08:03:11+00:00   \n",
       "4  Abdul Hakeem      PKR       245.0  2014-01-01 11:53:19+00:00   \n",
       "\n",
       "              disbursed_time                funded_time  term_in_months  \\\n",
       "0  2013-12-17 08:00:00+00:00  2014-01-02 10:06:32+00:00            12.0   \n",
       "1  2013-12-17 08:00:00+00:00  2014-01-02 09:17:23+00:00            11.0   \n",
       "2  2013-12-17 08:00:00+00:00  2014-01-01 16:01:36+00:00            43.0   \n",
       "3  2013-12-24 08:00:00+00:00  2014-01-01 13:00:00+00:00            11.0   \n",
       "4  2013-12-17 08:00:00+00:00  2014-01-01 19:18:51+00:00            14.0   \n",
       "\n",
       "   lender_count                          tags borrower_genders  \\\n",
       "0            12                           NaN           female   \n",
       "1            14                           NaN   female, female   \n",
       "2             6  user_favorite, user_favorite           female   \n",
       "3             8                           NaN           female   \n",
       "4            16                           NaN           female   \n",
       "\n",
       "  repayment_interval        date  \n",
       "0          irregular  2014-01-01  \n",
       "1          irregular  2014-01-01  \n",
       "2             bullet  2014-01-01  \n",
       "3          irregular  2014-01-01  \n",
       "4            monthly  2014-01-01  "
      ]
     },
     "execution_count": 2,
     "metadata": {},
     "output_type": "execute_result"
    }
   ],
   "source": [
    "## load the kiva_loans.csv. display info and head\n",
    "df = pd.read_csv('Data/kiva_loans.csv.gz')\n",
    "df.info()\n",
    "df.head()"
   ]
  },
  {
   "cell_type": "code",
   "execution_count": 3,
   "id": "635b5d1c",
   "metadata": {},
   "outputs": [
    {
     "name": "stdout",
     "output_type": "stream",
     "text": [
      "<class 'pandas.core.frame.DataFrame'>\n",
      "Int64Index: 666984 entries, 653051 to 1340339\n",
      "Data columns (total 19 columns):\n",
      " #   Column              Non-Null Count   Dtype  \n",
      "---  ------              --------------   -----  \n",
      " 0   funded_amount       666984 non-null  float64\n",
      " 1   loan_amount         666984 non-null  float64\n",
      " 2   activity            666984 non-null  object \n",
      " 3   sector              666984 non-null  object \n",
      " 4   use                 666973 non-null  object \n",
      " 5   country_code        666976 non-null  object \n",
      " 6   country             666984 non-null  object \n",
      " 7   region              614405 non-null  object \n",
      " 8   currency            666984 non-null  object \n",
      " 9   partner_id          653896 non-null  float64\n",
      " 10  posted_time         666984 non-null  object \n",
      " 11  disbursed_time      665003 non-null  object \n",
      " 12  funded_time         619335 non-null  object \n",
      " 13  term_in_months      666984 non-null  float64\n",
      " 14  lender_count        666984 non-null  int64  \n",
      " 15  tags                496877 non-null  object \n",
      " 16  borrower_genders    666984 non-null  object \n",
      " 17  repayment_interval  666984 non-null  object \n",
      " 18  date                666984 non-null  object \n",
      "dtypes: float64(4), int64(1), object(14)\n",
      "memory usage: 101.8+ MB\n"
     ]
    },
    {
     "data": {
      "text/html": [
       "<div>\n",
       "<style scoped>\n",
       "    .dataframe tbody tr th:only-of-type {\n",
       "        vertical-align: middle;\n",
       "    }\n",
       "\n",
       "    .dataframe tbody tr th {\n",
       "        vertical-align: top;\n",
       "    }\n",
       "\n",
       "    .dataframe thead th {\n",
       "        text-align: right;\n",
       "    }\n",
       "</style>\n",
       "<table border=\"1\" class=\"dataframe\">\n",
       "  <thead>\n",
       "    <tr style=\"text-align: right;\">\n",
       "      <th></th>\n",
       "      <th>funded_amount</th>\n",
       "      <th>loan_amount</th>\n",
       "      <th>activity</th>\n",
       "      <th>sector</th>\n",
       "      <th>use</th>\n",
       "      <th>country_code</th>\n",
       "      <th>country</th>\n",
       "      <th>region</th>\n",
       "      <th>currency</th>\n",
       "      <th>partner_id</th>\n",
       "      <th>posted_time</th>\n",
       "      <th>disbursed_time</th>\n",
       "      <th>funded_time</th>\n",
       "      <th>term_in_months</th>\n",
       "      <th>lender_count</th>\n",
       "      <th>tags</th>\n",
       "      <th>borrower_genders</th>\n",
       "      <th>repayment_interval</th>\n",
       "      <th>date</th>\n",
       "    </tr>\n",
       "    <tr>\n",
       "      <th>id</th>\n",
       "      <th></th>\n",
       "      <th></th>\n",
       "      <th></th>\n",
       "      <th></th>\n",
       "      <th></th>\n",
       "      <th></th>\n",
       "      <th></th>\n",
       "      <th></th>\n",
       "      <th></th>\n",
       "      <th></th>\n",
       "      <th></th>\n",
       "      <th></th>\n",
       "      <th></th>\n",
       "      <th></th>\n",
       "      <th></th>\n",
       "      <th></th>\n",
       "      <th></th>\n",
       "      <th></th>\n",
       "      <th></th>\n",
       "    </tr>\n",
       "  </thead>\n",
       "  <tbody>\n",
       "    <tr>\n",
       "      <th>653051</th>\n",
       "      <td>300.0</td>\n",
       "      <td>300.0</td>\n",
       "      <td>Fruits &amp; Vegetables</td>\n",
       "      <td>Food</td>\n",
       "      <td>To buy seasonal, fresh fruits to sell.</td>\n",
       "      <td>PK</td>\n",
       "      <td>Pakistan</td>\n",
       "      <td>Lahore</td>\n",
       "      <td>PKR</td>\n",
       "      <td>247.0</td>\n",
       "      <td>2014-01-01 06:12:39+00:00</td>\n",
       "      <td>2013-12-17 08:00:00+00:00</td>\n",
       "      <td>2014-01-02 10:06:32+00:00</td>\n",
       "      <td>12.0</td>\n",
       "      <td>12</td>\n",
       "      <td>NaN</td>\n",
       "      <td>female</td>\n",
       "      <td>irregular</td>\n",
       "      <td>2014-01-01</td>\n",
       "    </tr>\n",
       "    <tr>\n",
       "      <th>653053</th>\n",
       "      <td>575.0</td>\n",
       "      <td>575.0</td>\n",
       "      <td>Rickshaw</td>\n",
       "      <td>Transportation</td>\n",
       "      <td>to repair and maintain the auto rickshaw used ...</td>\n",
       "      <td>PK</td>\n",
       "      <td>Pakistan</td>\n",
       "      <td>Lahore</td>\n",
       "      <td>PKR</td>\n",
       "      <td>247.0</td>\n",
       "      <td>2014-01-01 06:51:08+00:00</td>\n",
       "      <td>2013-12-17 08:00:00+00:00</td>\n",
       "      <td>2014-01-02 09:17:23+00:00</td>\n",
       "      <td>11.0</td>\n",
       "      <td>14</td>\n",
       "      <td>NaN</td>\n",
       "      <td>female, female</td>\n",
       "      <td>irregular</td>\n",
       "      <td>2014-01-01</td>\n",
       "    </tr>\n",
       "    <tr>\n",
       "      <th>653068</th>\n",
       "      <td>150.0</td>\n",
       "      <td>150.0</td>\n",
       "      <td>Transportation</td>\n",
       "      <td>Transportation</td>\n",
       "      <td>To repair their old cycle-van and buy another ...</td>\n",
       "      <td>IN</td>\n",
       "      <td>India</td>\n",
       "      <td>Maynaguri</td>\n",
       "      <td>INR</td>\n",
       "      <td>334.0</td>\n",
       "      <td>2014-01-01 09:58:07+00:00</td>\n",
       "      <td>2013-12-17 08:00:00+00:00</td>\n",
       "      <td>2014-01-01 16:01:36+00:00</td>\n",
       "      <td>43.0</td>\n",
       "      <td>6</td>\n",
       "      <td>user_favorite, user_favorite</td>\n",
       "      <td>female</td>\n",
       "      <td>bullet</td>\n",
       "      <td>2014-01-01</td>\n",
       "    </tr>\n",
       "    <tr>\n",
       "      <th>653063</th>\n",
       "      <td>200.0</td>\n",
       "      <td>200.0</td>\n",
       "      <td>Embroidery</td>\n",
       "      <td>Arts</td>\n",
       "      <td>to purchase an embroidery machine and a variet...</td>\n",
       "      <td>PK</td>\n",
       "      <td>Pakistan</td>\n",
       "      <td>Lahore</td>\n",
       "      <td>PKR</td>\n",
       "      <td>247.0</td>\n",
       "      <td>2014-01-01 08:03:11+00:00</td>\n",
       "      <td>2013-12-24 08:00:00+00:00</td>\n",
       "      <td>2014-01-01 13:00:00+00:00</td>\n",
       "      <td>11.0</td>\n",
       "      <td>8</td>\n",
       "      <td>NaN</td>\n",
       "      <td>female</td>\n",
       "      <td>irregular</td>\n",
       "      <td>2014-01-01</td>\n",
       "    </tr>\n",
       "    <tr>\n",
       "      <th>653084</th>\n",
       "      <td>400.0</td>\n",
       "      <td>400.0</td>\n",
       "      <td>Milk Sales</td>\n",
       "      <td>Food</td>\n",
       "      <td>to purchase one buffalo.</td>\n",
       "      <td>PK</td>\n",
       "      <td>Pakistan</td>\n",
       "      <td>Abdul Hakeem</td>\n",
       "      <td>PKR</td>\n",
       "      <td>245.0</td>\n",
       "      <td>2014-01-01 11:53:19+00:00</td>\n",
       "      <td>2013-12-17 08:00:00+00:00</td>\n",
       "      <td>2014-01-01 19:18:51+00:00</td>\n",
       "      <td>14.0</td>\n",
       "      <td>16</td>\n",
       "      <td>NaN</td>\n",
       "      <td>female</td>\n",
       "      <td>monthly</td>\n",
       "      <td>2014-01-01</td>\n",
       "    </tr>\n",
       "  </tbody>\n",
       "</table>\n",
       "</div>"
      ],
      "text/plain": [
       "        funded_amount  loan_amount             activity          sector  \\\n",
       "id                                                                        \n",
       "653051          300.0        300.0  Fruits & Vegetables            Food   \n",
       "653053          575.0        575.0             Rickshaw  Transportation   \n",
       "653068          150.0        150.0       Transportation  Transportation   \n",
       "653063          200.0        200.0           Embroidery            Arts   \n",
       "653084          400.0        400.0           Milk Sales            Food   \n",
       "\n",
       "                                                      use country_code  \\\n",
       "id                                                                       \n",
       "653051            To buy seasonal, fresh fruits to sell.            PK   \n",
       "653053  to repair and maintain the auto rickshaw used ...           PK   \n",
       "653068  To repair their old cycle-van and buy another ...           IN   \n",
       "653063  to purchase an embroidery machine and a variet...           PK   \n",
       "653084                           to purchase one buffalo.           PK   \n",
       "\n",
       "         country        region currency  partner_id  \\\n",
       "id                                                    \n",
       "653051  Pakistan        Lahore      PKR       247.0   \n",
       "653053  Pakistan        Lahore      PKR       247.0   \n",
       "653068     India     Maynaguri      INR       334.0   \n",
       "653063  Pakistan        Lahore      PKR       247.0   \n",
       "653084  Pakistan  Abdul Hakeem      PKR       245.0   \n",
       "\n",
       "                      posted_time             disbursed_time  \\\n",
       "id                                                             \n",
       "653051  2014-01-01 06:12:39+00:00  2013-12-17 08:00:00+00:00   \n",
       "653053  2014-01-01 06:51:08+00:00  2013-12-17 08:00:00+00:00   \n",
       "653068  2014-01-01 09:58:07+00:00  2013-12-17 08:00:00+00:00   \n",
       "653063  2014-01-01 08:03:11+00:00  2013-12-24 08:00:00+00:00   \n",
       "653084  2014-01-01 11:53:19+00:00  2013-12-17 08:00:00+00:00   \n",
       "\n",
       "                      funded_time  term_in_months  lender_count  \\\n",
       "id                                                                \n",
       "653051  2014-01-02 10:06:32+00:00            12.0            12   \n",
       "653053  2014-01-02 09:17:23+00:00            11.0            14   \n",
       "653068  2014-01-01 16:01:36+00:00            43.0             6   \n",
       "653063  2014-01-01 13:00:00+00:00            11.0             8   \n",
       "653084  2014-01-01 19:18:51+00:00            14.0            16   \n",
       "\n",
       "                                tags borrower_genders repayment_interval  \\\n",
       "id                                                                         \n",
       "653051                           NaN           female          irregular   \n",
       "653053                           NaN   female, female          irregular   \n",
       "653068  user_favorite, user_favorite           female             bullet   \n",
       "653063                           NaN           female          irregular   \n",
       "653084                           NaN           female            monthly   \n",
       "\n",
       "              date  \n",
       "id                  \n",
       "653051  2014-01-01  \n",
       "653053  2014-01-01  \n",
       "653068  2014-01-01  \n",
       "653063  2014-01-01  \n",
       "653084  2014-01-01  "
      ]
     },
     "execution_count": 3,
     "metadata": {},
     "output_type": "execute_result"
    }
   ],
   "source": [
    "## Drop null values from related columns\n",
    "df = df.dropna(subset=['borrower_genders','funded_amount'])\n",
    "\n",
    "# Setting the id as the index\n",
    "df = df.set_index('id')\n",
    "df.info()\n",
    "df.head()"
   ]
  },
  {
   "cell_type": "markdown",
   "id": "23c86ada",
   "metadata": {},
   "source": [
    "# Q1:  Do all-male teams get more funding vs teams that include at least 1 female?"
   ]
  },
  {
   "cell_type": "markdown",
   "id": "6cda1c2a",
   "metadata": {},
   "source": [
    "## 1. State the Hypothesis & Null Hypothesis "
   ]
  },
  {
   "cell_type": "markdown",
   "id": "99032d8e",
   "metadata": {},
   "source": [
    "- $H_0$ (Null Hypothesis): All funding is the same between teams with male/female\n",
    "- $H_A$ (Alternative Hypothesis):  there is a significant difference in funding amount based on gender"
   ]
  },
  {
   "cell_type": "markdown",
   "id": "a06a0a19",
   "metadata": {},
   "source": [
    "## 2. Determine the correct test to perform.\n",
    "- Type of Data? Numeric\n",
    "- How many groups/samples? Two ( all males, at least 1 female)\n",
    "- Therefore, which test is appropriate? s sample t test"
   ]
  },
  {
   "cell_type": "markdown",
   "id": "bc3ec916",
   "metadata": {},
   "source": [
    "### Visualize and separate data for hypothesis"
   ]
  },
  {
   "cell_type": "markdown",
   "id": "934fd107",
   "metadata": {},
   "source": [
    "- What column is our target?\n",
    "- What column determines our groups?"
   ]
  },
  {
   "cell_type": "code",
   "execution_count": 4,
   "id": "5001f922",
   "metadata": {},
   "outputs": [
    {
     "data": {
      "text/plain": [
       "female                                                                                                                                                                                                                          426502\n",
       "male                                                                                                                                                                                                                            134710\n",
       "female, female                                                                                                                                                                                                                   12164\n",
       "female, female, female                                                                                                                                                                                                           11676\n",
       "female, female, female, female                                                                                                                                                                                                    9052\n",
       "                                                                                                                                                                                                                                 ...  \n",
       "male, female, female, female, male, female, female, female, male, female, female, male, female, female, female, female, female                                                                                                       1\n",
       "female, female, male, female, male, female, female, male, female, female, female, female, female, female, female, female, female, female                                                                                             1\n",
       "male, female, female, male, female, female, female, male, female, male, female, female, female                                                                                                                                       1\n",
       "female, female, female, female, female, female, female, female, female, female, female, male, female, female, female, female, female, female, female, female, female, female, female                                                 1\n",
       "female, female, female, male, female, female, female, male, female, female, female, male, female, male, female, female, female, female, female, female, female, female, female, female, female, female, female, female, male         1\n",
       "Name: borrower_genders, Length: 11298, dtype: int64"
      ]
     },
     "execution_count": 4,
     "metadata": {},
     "output_type": "execute_result"
    }
   ],
   "source": [
    "## check the col that contains info on gender\n",
    "df['borrower_genders'].value_counts()"
   ]
  },
  {
   "cell_type": "code",
   "execution_count": 5,
   "id": "44463923",
   "metadata": {},
   "outputs": [
    {
     "data": {
      "text/plain": [
       "True     528461\n",
       "False    138523\n",
       "Name: has_female, dtype: int64"
      ]
     },
     "execution_count": 5,
     "metadata": {},
     "output_type": "execute_result"
    }
   ],
   "source": [
    "## create a column that easily separates our groups\n",
    "df['has_female']=df['borrower_genders'].str.contains('female')\n",
    "df['has_female'].value_counts()"
   ]
  },
  {
   "cell_type": "code",
   "execution_count": 6,
   "id": "8c8ee587",
   "metadata": {},
   "outputs": [
    {
     "data": {
      "text/html": [
       "<div>\n",
       "<style scoped>\n",
       "    .dataframe tbody tr th:only-of-type {\n",
       "        vertical-align: middle;\n",
       "    }\n",
       "\n",
       "    .dataframe tbody tr th {\n",
       "        vertical-align: top;\n",
       "    }\n",
       "\n",
       "    .dataframe thead th {\n",
       "        text-align: right;\n",
       "    }\n",
       "</style>\n",
       "<table border=\"1\" class=\"dataframe\">\n",
       "  <thead>\n",
       "    <tr style=\"text-align: right;\">\n",
       "      <th></th>\n",
       "      <th>funded_amount</th>\n",
       "      <th>has_female</th>\n",
       "    </tr>\n",
       "    <tr>\n",
       "      <th>id</th>\n",
       "      <th></th>\n",
       "      <th></th>\n",
       "    </tr>\n",
       "  </thead>\n",
       "  <tbody>\n",
       "    <tr>\n",
       "      <th>653051</th>\n",
       "      <td>300.0</td>\n",
       "      <td>True</td>\n",
       "    </tr>\n",
       "    <tr>\n",
       "      <th>653053</th>\n",
       "      <td>575.0</td>\n",
       "      <td>True</td>\n",
       "    </tr>\n",
       "    <tr>\n",
       "      <th>653068</th>\n",
       "      <td>150.0</td>\n",
       "      <td>True</td>\n",
       "    </tr>\n",
       "    <tr>\n",
       "      <th>653063</th>\n",
       "      <td>200.0</td>\n",
       "      <td>True</td>\n",
       "    </tr>\n",
       "    <tr>\n",
       "      <th>653084</th>\n",
       "      <td>400.0</td>\n",
       "      <td>True</td>\n",
       "    </tr>\n",
       "    <tr>\n",
       "      <th>...</th>\n",
       "      <td>...</td>\n",
       "      <td>...</td>\n",
       "    </tr>\n",
       "    <tr>\n",
       "      <th>1340318</th>\n",
       "      <td>0.0</td>\n",
       "      <td>True</td>\n",
       "    </tr>\n",
       "    <tr>\n",
       "      <th>1340323</th>\n",
       "      <td>0.0</td>\n",
       "      <td>True</td>\n",
       "    </tr>\n",
       "    <tr>\n",
       "      <th>1340316</th>\n",
       "      <td>25.0</td>\n",
       "      <td>True</td>\n",
       "    </tr>\n",
       "    <tr>\n",
       "      <th>1340338</th>\n",
       "      <td>0.0</td>\n",
       "      <td>True</td>\n",
       "    </tr>\n",
       "    <tr>\n",
       "      <th>1340339</th>\n",
       "      <td>0.0</td>\n",
       "      <td>True</td>\n",
       "    </tr>\n",
       "  </tbody>\n",
       "</table>\n",
       "<p>666984 rows × 2 columns</p>\n",
       "</div>"
      ],
      "text/plain": [
       "         funded_amount  has_female\n",
       "id                                \n",
       "653051           300.0        True\n",
       "653053           575.0        True\n",
       "653068           150.0        True\n",
       "653063           200.0        True\n",
       "653084           400.0        True\n",
       "...                ...         ...\n",
       "1340318            0.0        True\n",
       "1340323            0.0        True\n",
       "1340316           25.0        True\n",
       "1340338            0.0        True\n",
       "1340339            0.0        True\n",
       "\n",
       "[666984 rows x 2 columns]"
      ]
     },
     "execution_count": 6,
     "metadata": {},
     "output_type": "execute_result"
    }
   ],
   "source": [
    "## save list of columns needed for each group\n",
    "needed_cols = ['funded_amount','has_female']\n",
    "df[needed_cols]"
   ]
  },
  {
   "cell_type": "code",
   "execution_count": 7,
   "id": "12415b31",
   "metadata": {},
   "outputs": [
    {
     "data": {
      "text/html": [
       "<div>\n",
       "<style scoped>\n",
       "    .dataframe tbody tr th:only-of-type {\n",
       "        vertical-align: middle;\n",
       "    }\n",
       "\n",
       "    .dataframe tbody tr th {\n",
       "        vertical-align: top;\n",
       "    }\n",
       "\n",
       "    .dataframe thead th {\n",
       "        text-align: right;\n",
       "    }\n",
       "</style>\n",
       "<table border=\"1\" class=\"dataframe\">\n",
       "  <thead>\n",
       "    <tr style=\"text-align: right;\">\n",
       "      <th></th>\n",
       "      <th>funded_amount</th>\n",
       "      <th>has_female</th>\n",
       "    </tr>\n",
       "    <tr>\n",
       "      <th>id</th>\n",
       "      <th></th>\n",
       "      <th></th>\n",
       "    </tr>\n",
       "  </thead>\n",
       "  <tbody>\n",
       "    <tr>\n",
       "      <th>653418</th>\n",
       "      <td>450.0</td>\n",
       "      <td>False</td>\n",
       "    </tr>\n",
       "    <tr>\n",
       "      <th>653170</th>\n",
       "      <td>3175.0</td>\n",
       "      <td>False</td>\n",
       "    </tr>\n",
       "    <tr>\n",
       "      <th>653432</th>\n",
       "      <td>550.0</td>\n",
       "      <td>False</td>\n",
       "    </tr>\n",
       "    <tr>\n",
       "      <th>1080150</th>\n",
       "      <td>125.0</td>\n",
       "      <td>False</td>\n",
       "    </tr>\n",
       "    <tr>\n",
       "      <th>653410</th>\n",
       "      <td>1075.0</td>\n",
       "      <td>False</td>\n",
       "    </tr>\n",
       "    <tr>\n",
       "      <th>...</th>\n",
       "      <td>...</td>\n",
       "      <td>...</td>\n",
       "    </tr>\n",
       "    <tr>\n",
       "      <th>1339703</th>\n",
       "      <td>0.0</td>\n",
       "      <td>False</td>\n",
       "    </tr>\n",
       "    <tr>\n",
       "      <th>1339831</th>\n",
       "      <td>50.0</td>\n",
       "      <td>False</td>\n",
       "    </tr>\n",
       "    <tr>\n",
       "      <th>1339701</th>\n",
       "      <td>125.0</td>\n",
       "      <td>False</td>\n",
       "    </tr>\n",
       "    <tr>\n",
       "      <th>1339668</th>\n",
       "      <td>175.0</td>\n",
       "      <td>False</td>\n",
       "    </tr>\n",
       "    <tr>\n",
       "      <th>1339743</th>\n",
       "      <td>0.0</td>\n",
       "      <td>False</td>\n",
       "    </tr>\n",
       "  </tbody>\n",
       "</table>\n",
       "<p>138523 rows × 2 columns</p>\n",
       "</div>"
      ],
      "text/plain": [
       "         funded_amount  has_female\n",
       "id                                \n",
       "653418           450.0       False\n",
       "653170          3175.0       False\n",
       "653432           550.0       False\n",
       "1080150          125.0       False\n",
       "653410          1075.0       False\n",
       "...                ...         ...\n",
       "1339703            0.0       False\n",
       "1339831           50.0       False\n",
       "1339701          125.0       False\n",
       "1339668          175.0       False\n",
       "1339743            0.0       False\n",
       "\n",
       "[138523 rows x 2 columns]"
      ]
     },
     "execution_count": 7,
     "metadata": {},
     "output_type": "execute_result"
    }
   ],
   "source": [
    "## save male team in separate variable\n",
    "male_df = df.loc[ df['has_female']==False, needed_cols]\n",
    "male_df"
   ]
  },
  {
   "cell_type": "code",
   "execution_count": 8,
   "id": "a114459b",
   "metadata": {},
   "outputs": [
    {
     "data": {
      "text/html": [
       "<div>\n",
       "<style scoped>\n",
       "    .dataframe tbody tr th:only-of-type {\n",
       "        vertical-align: middle;\n",
       "    }\n",
       "\n",
       "    .dataframe tbody tr th {\n",
       "        vertical-align: top;\n",
       "    }\n",
       "\n",
       "    .dataframe thead th {\n",
       "        text-align: right;\n",
       "    }\n",
       "</style>\n",
       "<table border=\"1\" class=\"dataframe\">\n",
       "  <thead>\n",
       "    <tr style=\"text-align: right;\">\n",
       "      <th></th>\n",
       "      <th>funded_amount</th>\n",
       "      <th>has_female</th>\n",
       "    </tr>\n",
       "    <tr>\n",
       "      <th>id</th>\n",
       "      <th></th>\n",
       "      <th></th>\n",
       "    </tr>\n",
       "  </thead>\n",
       "  <tbody>\n",
       "    <tr>\n",
       "      <th>653051</th>\n",
       "      <td>300.0</td>\n",
       "      <td>True</td>\n",
       "    </tr>\n",
       "    <tr>\n",
       "      <th>653053</th>\n",
       "      <td>575.0</td>\n",
       "      <td>True</td>\n",
       "    </tr>\n",
       "    <tr>\n",
       "      <th>653068</th>\n",
       "      <td>150.0</td>\n",
       "      <td>True</td>\n",
       "    </tr>\n",
       "    <tr>\n",
       "      <th>653063</th>\n",
       "      <td>200.0</td>\n",
       "      <td>True</td>\n",
       "    </tr>\n",
       "    <tr>\n",
       "      <th>653084</th>\n",
       "      <td>400.0</td>\n",
       "      <td>True</td>\n",
       "    </tr>\n",
       "    <tr>\n",
       "      <th>...</th>\n",
       "      <td>...</td>\n",
       "      <td>...</td>\n",
       "    </tr>\n",
       "    <tr>\n",
       "      <th>1340318</th>\n",
       "      <td>0.0</td>\n",
       "      <td>True</td>\n",
       "    </tr>\n",
       "    <tr>\n",
       "      <th>1340323</th>\n",
       "      <td>0.0</td>\n",
       "      <td>True</td>\n",
       "    </tr>\n",
       "    <tr>\n",
       "      <th>1340316</th>\n",
       "      <td>25.0</td>\n",
       "      <td>True</td>\n",
       "    </tr>\n",
       "    <tr>\n",
       "      <th>1340338</th>\n",
       "      <td>0.0</td>\n",
       "      <td>True</td>\n",
       "    </tr>\n",
       "    <tr>\n",
       "      <th>1340339</th>\n",
       "      <td>0.0</td>\n",
       "      <td>True</td>\n",
       "    </tr>\n",
       "  </tbody>\n",
       "</table>\n",
       "<p>528461 rows × 2 columns</p>\n",
       "</div>"
      ],
      "text/plain": [
       "         funded_amount  has_female\n",
       "id                                \n",
       "653051           300.0        True\n",
       "653053           575.0        True\n",
       "653068           150.0        True\n",
       "653063           200.0        True\n",
       "653084           400.0        True\n",
       "...                ...         ...\n",
       "1340318            0.0        True\n",
       "1340323            0.0        True\n",
       "1340316           25.0        True\n",
       "1340338            0.0        True\n",
       "1340339            0.0        True\n",
       "\n",
       "[528461 rows x 2 columns]"
      ]
     },
     "execution_count": 8,
     "metadata": {},
     "output_type": "execute_result"
    }
   ],
   "source": [
    "## save female team in separate variables\n",
    "female_df = df.loc[ df['has_female']==True, needed_cols]\n",
    "female_df\n",
    "\n"
   ]
  },
  {
   "cell_type": "code",
   "execution_count": 9,
   "id": "cd5e3c6f",
   "metadata": {},
   "outputs": [
    {
     "data": {
      "text/html": [
       "<div>\n",
       "<style scoped>\n",
       "    .dataframe tbody tr th:only-of-type {\n",
       "        vertical-align: middle;\n",
       "    }\n",
       "\n",
       "    .dataframe tbody tr th {\n",
       "        vertical-align: top;\n",
       "    }\n",
       "\n",
       "    .dataframe thead th {\n",
       "        text-align: right;\n",
       "    }\n",
       "</style>\n",
       "<table border=\"1\" class=\"dataframe\">\n",
       "  <thead>\n",
       "    <tr style=\"text-align: right;\">\n",
       "      <th></th>\n",
       "      <th>funded_amount</th>\n",
       "      <th>has_female</th>\n",
       "    </tr>\n",
       "    <tr>\n",
       "      <th>id</th>\n",
       "      <th></th>\n",
       "      <th></th>\n",
       "    </tr>\n",
       "  </thead>\n",
       "  <tbody>\n",
       "    <tr>\n",
       "      <th>653418</th>\n",
       "      <td>450.0</td>\n",
       "      <td>False</td>\n",
       "    </tr>\n",
       "    <tr>\n",
       "      <th>653170</th>\n",
       "      <td>3175.0</td>\n",
       "      <td>False</td>\n",
       "    </tr>\n",
       "    <tr>\n",
       "      <th>653432</th>\n",
       "      <td>550.0</td>\n",
       "      <td>False</td>\n",
       "    </tr>\n",
       "    <tr>\n",
       "      <th>1080150</th>\n",
       "      <td>125.0</td>\n",
       "      <td>False</td>\n",
       "    </tr>\n",
       "    <tr>\n",
       "      <th>653410</th>\n",
       "      <td>1075.0</td>\n",
       "      <td>False</td>\n",
       "    </tr>\n",
       "    <tr>\n",
       "      <th>...</th>\n",
       "      <td>...</td>\n",
       "      <td>...</td>\n",
       "    </tr>\n",
       "    <tr>\n",
       "      <th>1340318</th>\n",
       "      <td>0.0</td>\n",
       "      <td>True</td>\n",
       "    </tr>\n",
       "    <tr>\n",
       "      <th>1340323</th>\n",
       "      <td>0.0</td>\n",
       "      <td>True</td>\n",
       "    </tr>\n",
       "    <tr>\n",
       "      <th>1340316</th>\n",
       "      <td>25.0</td>\n",
       "      <td>True</td>\n",
       "    </tr>\n",
       "    <tr>\n",
       "      <th>1340338</th>\n",
       "      <td>0.0</td>\n",
       "      <td>True</td>\n",
       "    </tr>\n",
       "    <tr>\n",
       "      <th>1340339</th>\n",
       "      <td>0.0</td>\n",
       "      <td>True</td>\n",
       "    </tr>\n",
       "  </tbody>\n",
       "</table>\n",
       "<p>666984 rows × 2 columns</p>\n",
       "</div>"
      ],
      "text/plain": [
       "         funded_amount  has_female\n",
       "id                                \n",
       "653418           450.0       False\n",
       "653170          3175.0       False\n",
       "653432           550.0       False\n",
       "1080150          125.0       False\n",
       "653410          1075.0       False\n",
       "...                ...         ...\n",
       "1340318            0.0        True\n",
       "1340323            0.0        True\n",
       "1340316           25.0        True\n",
       "1340338            0.0        True\n",
       "1340339            0.0        True\n",
       "\n",
       "[666984 rows x 2 columns]"
      ]
     },
     "execution_count": 9,
     "metadata": {},
     "output_type": "execute_result"
    }
   ],
   "source": [
    "## Make a df just for visualization by concat the groups \n",
    "plot_df = pd.concat([male_df,female_df])\n",
    "plot_df"
   ]
  },
  {
   "cell_type": "code",
   "execution_count": 10,
   "id": "e2166acd",
   "metadata": {},
   "outputs": [
    {
     "data": {
      "text/plain": [
       "<AxesSubplot:xlabel='has_female', ylabel='funded_amount'>"
      ]
     },
     "execution_count": 10,
     "metadata": {},
     "output_type": "execute_result"
    },
    {
     "data": {
      "image/png": "[encoded data removed]",
      "text/plain": [
       "<Figure size 432x288 with 1 Axes>"
      ]
     },
     "metadata": {
      "needs_background": "light"
     },
     "output_type": "display_data"
    }
   ],
   "source": [
    "## visualize the group means\n",
    "sns.barplot(data=df, x= 'has_female',y ='funded_amount')"
   ]
  },
  {
   "cell_type": "markdown",
   "id": "9941c848",
   "metadata": {},
   "source": [
    "## 3. Testing Assumptions"
   ]
  },
  {
   "cell_type": "markdown",
   "id": "3a38e3a8",
   "metadata": {},
   "source": [
    "- No significant outliers\n",
    "- Normality\n",
    "- Equal Variance"
   ]
  },
  {
   "cell_type": "markdown",
   "id": "40af28da",
   "metadata": {},
   "source": [
    "### Checking Assumption of No Sig. Outliers"
   ]
  },
  {
   "cell_type": "code",
   "execution_count": 11,
   "id": "9a90f384",
   "metadata": {
    "scrolled": true
   },
   "outputs": [
    {
     "data": {
      "text/plain": [
       "id\n",
       "653051     300.0\n",
       "653053     575.0\n",
       "653068     150.0\n",
       "653063     200.0\n",
       "653084     400.0\n",
       "           ...  \n",
       "1340318      0.0\n",
       "1340323      0.0\n",
       "1340316     25.0\n",
       "1340338      0.0\n",
       "1340339      0.0\n",
       "Name: funded_amount, Length: 528461, dtype: float64"
      ]
     },
     "execution_count": 11,
     "metadata": {},
     "output_type": "execute_result"
    }
   ],
   "source": [
    "## Saving JUST the numeric col as final group variables\n",
    "male_group = male_df['funded_amount']\n",
    "female_group =  female_df['funded_amount']\n",
    "female_group"
   ]
  },
  {
   "cell_type": "code",
   "execution_count": 12,
   "id": "d10ea51e",
   "metadata": {},
   "outputs": [
    {
     "data": {
      "text/plain": [
       "False    515117\n",
       "True      13344\n",
       "Name: funded_amount, dtype: int64"
      ]
     },
     "execution_count": 12,
     "metadata": {},
     "output_type": "execute_result"
    }
   ],
   "source": [
    "## Check female group for outliers\n",
    "female_outliers = np.abs(stats.zscore(female_group))>3\n",
    "\n",
    "## how many outliers?\n",
    "female_outliers.value_counts()"
   ]
  },
  {
   "cell_type": "code",
   "execution_count": 13,
   "id": "1aef7c00",
   "metadata": {},
   "outputs": [],
   "source": [
    "## remove outliers from female_group\n",
    "female_group = female_group[~female_outliers]"
   ]
  },
  {
   "cell_type": "code",
   "execution_count": 14,
   "id": "45506df5",
   "metadata": {},
   "outputs": [
    {
     "data": {
      "text/plain": [
       "False    136771\n",
       "True       1752\n",
       "Name: funded_amount, dtype: int64"
      ]
     },
     "execution_count": 14,
     "metadata": {},
     "output_type": "execute_result"
    }
   ],
   "source": [
    "## Check female group for outliers\n",
    "male_outliers = np.abs(stats.zscore(male_group))>3\n",
    "\n",
    "## how many outliers?\n",
    "male_outliers.value_counts()"
   ]
  },
  {
   "cell_type": "code",
   "execution_count": 15,
   "id": "00de8a09",
   "metadata": {},
   "outputs": [
    {
     "data": {
      "text/plain": [
       "id\n",
       "653418      450.0\n",
       "653170     3175.0\n",
       "653432      550.0\n",
       "1080150     125.0\n",
       "653410     1075.0\n",
       "            ...  \n",
       "1339703       0.0\n",
       "1339831      50.0\n",
       "1339701     125.0\n",
       "1339668     175.0\n",
       "1339743       0.0\n",
       "Name: funded_amount, Length: 136771, dtype: float64"
      ]
     },
     "execution_count": 15,
     "metadata": {},
     "output_type": "execute_result"
    }
   ],
   "source": [
    "## remove outliers from female_group\n",
    "male_group = male_group[~male_outliers]\n",
    "male_group\n"
   ]
  },
  {
   "cell_type": "markdown",
   "id": "2f80bec1",
   "metadata": {},
   "source": [
    "### Test for Normality"
   ]
  },
  {
   "cell_type": "code",
   "execution_count": 16,
   "id": "7dbac26c",
   "metadata": {},
   "outputs": [
    {
     "data": {
      "text/plain": [
       "NormaltestResult(statistic=254918.2167882442, pvalue=0.0)"
      ]
     },
     "execution_count": 16,
     "metadata": {},
     "output_type": "execute_result"
    }
   ],
   "source": [
    "## Check female group for normality\n",
    "result = stats.normaltest(female_group)\n",
    "result"
   ]
  },
  {
   "cell_type": "code",
   "execution_count": 17,
   "id": "88e8fb3c",
   "metadata": {},
   "outputs": [
    {
     "data": {
      "text/plain": [
       "515117"
      ]
     },
     "execution_count": 17,
     "metadata": {},
     "output_type": "execute_result"
    }
   ],
   "source": [
    "## Check n for female group\n",
    "len(female_group)"
   ]
  },
  {
   "cell_type": "code",
   "execution_count": 18,
   "id": "4cb1c02d",
   "metadata": {
    "scrolled": true
   },
   "outputs": [
    {
     "data": {
      "text/plain": [
       "NormaltestResult(statistic=56405.00961762786, pvalue=0.0)"
      ]
     },
     "execution_count": 18,
     "metadata": {},
     "output_type": "execute_result"
    }
   ],
   "source": [
    "## Check male group for normality\n",
    "result = stats.normaltest(male_group)\n",
    "result"
   ]
  },
  {
   "cell_type": "code",
   "execution_count": 19,
   "id": "8051e5a8",
   "metadata": {},
   "outputs": [
    {
     "data": {
      "text/plain": [
       "136771"
      ]
     },
     "execution_count": 19,
     "metadata": {},
     "output_type": "execute_result"
    }
   ],
   "source": [
    "## Check n for male group\n",
    "len(male_group)"
   ]
  },
  {
   "cell_type": "markdown",
   "id": "3c5fa24f",
   "metadata": {},
   "source": [
    "- Did we meet the assumption?"
   ]
  },
  {
   "cell_type": "markdown",
   "id": "f41351ba",
   "metadata": {},
   "source": [
    "### Test for Equal Variances"
   ]
  },
  {
   "cell_type": "code",
   "execution_count": 22,
   "id": "559ed7c3",
   "metadata": {},
   "outputs": [
    {
     "data": {
      "text/plain": [
       "True"
      ]
     },
     "execution_count": 22,
     "metadata": {},
     "output_type": "execute_result"
    }
   ],
   "source": [
    "## Use Levene's test for equal variance\n",
    "result = stats.levene(female_group,male_group)\n",
    "result\n",
    "result.pvalue<.05"
   ]
  },
  {
   "cell_type": "code",
   "execution_count": 23,
   "id": "7211dffc",
   "metadata": {
    "scrolled": true
   },
   "outputs": [
    {
     "name": "stdout",
     "output_type": "stream",
     "text": [
      "The groups DO NOT have equal variance\n"
     ]
    }
   ],
   "source": [
    "## Use an if-else to help interpret the p-value\n",
    "if result.pvalue <.05:\n",
    "    print('The groups DO NOT have equal variance')\n",
    "else:\n",
    "    print('The groups DO have equal variance')"
   ]
  },
  {
   "cell_type": "markdown",
   "id": "54acf417",
   "metadata": {},
   "source": [
    "- Did we meet the assumptions?"
   ]
  },
  {
   "cell_type": "markdown",
   "id": "42d92738",
   "metadata": {},
   "source": [
    "## Final Hypothesis Test"
   ]
  },
  {
   "cell_type": "markdown",
   "id": "39981a0e",
   "metadata": {},
   "source": [
    "- Did we meet our test's assumptions? \n",
    "    - If not, what is the alternative test?"
   ]
  },
  {
   "cell_type": "code",
   "execution_count": 24,
   "id": "bf0d8280",
   "metadata": {},
   "outputs": [
    {
     "data": {
      "text/plain": [
       "Ttest_indResult(statistic=-29.74961820258417, pvalue=4.102857297759938e-194)"
      ]
     },
     "execution_count": 24,
     "metadata": {},
     "output_type": "execute_result"
    }
   ],
   "source": [
    "## run final hypothess test\n",
    "result = stats.ttest_ind(female_group,male_group,equal_var=False)\n",
    "result"
   ]
  },
  {
   "cell_type": "code",
   "execution_count": 26,
   "id": "c644718a",
   "metadata": {},
   "outputs": [
    {
     "name": "stdout",
     "output_type": "stream",
     "text": [
      "True\n"
     ]
    }
   ],
   "source": [
    "\n",
    "print(result.pvalue<.000001)"
   ]
  },
  {
   "cell_type": "code",
   "execution_count": 27,
   "id": "1902d296",
   "metadata": {},
   "outputs": [
    {
     "data": {
      "text/plain": [
       "709.4942275774836"
      ]
     },
     "execution_count": 27,
     "metadata": {},
     "output_type": "execute_result"
    }
   ],
   "source": [
    "## make a plot or calcualte group means to know which group had more/less.\n",
    "male_group.mean()"
   ]
  },
  {
   "cell_type": "code",
   "execution_count": 28,
   "id": "9b3799ed",
   "metadata": {},
   "outputs": [
    {
     "data": {
      "text/plain": [
       "652.9337897992107"
      ]
     },
     "execution_count": 28,
     "metadata": {},
     "output_type": "execute_result"
    }
   ],
   "source": [
    "female_group.mean()"
   ]
  },
  {
   "cell_type": "markdown",
   "id": "41d13f96",
   "metadata": {},
   "source": [
    "- Final Conclusion:\n",
    "    - We had p valu<0.05 for out test. We reject null hypothesis and support alternate hypothesis. Teams with at least one female receives smaller funded amount"
   ]
  },
  {
   "cell_type": "markdown",
   "id": "dc5432e3",
   "metadata": {},
   "source": [
    "# Q2: Do different sectors get more/less funding?"
   ]
  },
  {
   "cell_type": "markdown",
   "id": "7a345561",
   "metadata": {},
   "source": [
    "## 1. State the Hypothesis & Null Hypothesis "
   ]
  },
  {
   "cell_type": "markdown",
   "id": "0c9a6ead",
   "metadata": {},
   "source": [
    "- $H_0$ (Null Hypothesis): There is no difference between funded amounts for different sectors.\n",
    "- $H_A$ (Alternative Hypothesis):  There is a significant difference between funded amounts for different sectors."
   ]
  },
  {
   "cell_type": "markdown",
   "id": "5f28bc93",
   "metadata": {},
   "source": [
    "## 2. Determine the correct test to perform."
   ]
  },
  {
   "cell_type": "markdown",
   "id": "c4159c7d",
   "metadata": {},
   "source": [
    "- Type of Data? numeric\n",
    "- How many groups/samples?more than 2\n",
    "- Therefore, which test is appropriate?ANOVA"
   ]
  },
  {
   "cell_type": "code",
   "execution_count": 29,
   "id": "05c1e58c",
   "metadata": {},
   "outputs": [
    {
     "data": {
      "text/plain": [
       "Agriculture       179224\n",
       "Food              135749\n",
       "Retail            123758\n",
       "Services           44699\n",
       "Personal Use       36247\n",
       "Housing            33571\n",
       "Clothing           32480\n",
       "Education          30837\n",
       "Transportation     15455\n",
       "Arts               11994\n",
       "Health              9172\n",
       "Construction        6194\n",
       "Manufacturing       6158\n",
       "Entertainment        820\n",
       "Wholesale            626\n",
       "Name: sector, dtype: int64"
      ]
     },
     "execution_count": 29,
     "metadata": {},
     "output_type": "execute_result"
    }
   ],
   "source": [
    "## how many sectors?\n",
    "\n",
    "df['sector'].value_counts()"
   ]
  },
  {
   "cell_type": "markdown",
   "id": "fe9c8684",
   "metadata": {},
   "source": [
    "### Visualize and separate data for hypothesis"
   ]
  },
  {
   "cell_type": "markdown",
   "id": "e89aeb74",
   "metadata": {},
   "source": [
    "- What column is our target?\n",
    "- What column determines our groups?"
   ]
  },
  {
   "cell_type": "code",
   "execution_count": 30,
   "id": "f0859820",
   "metadata": {},
   "outputs": [
    {
     "data": {
      "image/png": "[encoded data removed]",
      "text/plain": [
       "<Figure size 432x288 with 1 Axes>"
      ]
     },
     "metadata": {
      "needs_background": "light"
     },
     "output_type": "display_data"
    }
   ],
   "source": [
    "## barplot\n",
    "\n",
    "## barplot\n",
    "ax = sns.barplot(data=df, x='sector', y='funded_amount')\n",
    "ax.set_xticklabels( ax.get_xticklabels(), rotation=45, ha='right' );"
   ]
  },
  {
   "cell_type": "code",
   "execution_count": 34,
   "id": "b76d26f0",
   "metadata": {},
   "outputs": [
    {
     "data": {
      "text/plain": [
       "dict_keys(['Food', 'Transportation', 'Arts', 'Services', 'Agriculture', 'Manufacturing', 'Wholesale', 'Retail', 'Clothing', 'Construction', 'Health', 'Education', 'Personal Use', 'Housing', 'Entertainment'])"
      ]
     },
     "execution_count": 34,
     "metadata": {},
     "output_type": "execute_result"
    }
   ],
   "source": [
    "## Create a dictionary with each group as key and funded_amount as values\n",
    "groups = {}\n",
    "\n",
    "for sector in df['sector'].unique():\n",
    "    temp_df = df.loc[df['sector'] == sector, 'funded_amount']\n",
    "    groups[sector]=temp_df\n",
    "groups.keys()"
   ]
  },
  {
   "cell_type": "code",
   "execution_count": 35,
   "id": "2411de3f",
   "metadata": {},
   "outputs": [
    {
     "data": {
      "text/plain": [
       "dict_values([id\n",
       "653051      300.0\n",
       "653084      400.0\n",
       "653048      625.0\n",
       "653065      250.0\n",
       "653055      350.0\n",
       "            ...  \n",
       "1338707    2650.0\n",
       "1338799      50.0\n",
       "1338859       0.0\n",
       "1338682    3525.0\n",
       "1339743       0.0\n",
       "Name: funded_amount, Length: 135749, dtype: float64, id\n",
       "653053     575.0\n",
       "653068     150.0\n",
       "653060     200.0\n",
       "653054     300.0\n",
       "653056     475.0\n",
       "           ...  \n",
       "1338426      0.0\n",
       "1338575      0.0\n",
       "1338405      0.0\n",
       "1338541      0.0\n",
       "1338819    250.0\n",
       "Name: funded_amount, Length: 15455, dtype: float64, id\n",
       "653063      200.0\n",
       "653079      350.0\n",
       "653124      425.0\n",
       "653407      275.0\n",
       "653783     2550.0\n",
       "            ...  \n",
       "1338545     150.0\n",
       "1338643    1525.0\n",
       "1338581       0.0\n",
       "1338516     100.0\n",
       "1338653     500.0\n",
       "Name: funded_amount, Length: 11994, dtype: float64, id\n",
       "1080148    250.0\n",
       "653078     400.0\n",
       "653052     875.0\n",
       "653066     250.0\n",
       "653080     475.0\n",
       "           ...  \n",
       "1339259      0.0\n",
       "1338816     50.0\n",
       "1339073      0.0\n",
       "1339713    175.0\n",
       "1339765      0.0\n",
       "Name: funded_amount, Length: 44699, dtype: float64, id\n",
       "653067     200.0\n",
       "653075     225.0\n",
       "653074     250.0\n",
       "653071     125.0\n",
       "653073     250.0\n",
       "           ...  \n",
       "1340318      0.0\n",
       "1340323      0.0\n",
       "1340316     25.0\n",
       "1340338      0.0\n",
       "1340339      0.0\n",
       "Name: funded_amount, Length: 179224, dtype: float64, id\n",
       "653082      475.0\n",
       "653087      400.0\n",
       "653384      850.0\n",
       "653361      500.0\n",
       "653433     1500.0\n",
       "            ...  \n",
       "1336185      50.0\n",
       "1336295     450.0\n",
       "1336456     125.0\n",
       "1336971     475.0\n",
       "1338415     175.0\n",
       "Name: funded_amount, Length: 6158, dtype: float64, id\n",
       "653088      400.0\n",
       "655704      450.0\n",
       "657275     4175.0\n",
       "658295     1025.0\n",
       "657832     1900.0\n",
       "            ...  \n",
       "1324264     300.0\n",
       "1330018     525.0\n",
       "1329223     450.0\n",
       "1329828    1400.0\n",
       "1330989     475.0\n",
       "Name: funded_amount, Length: 626, dtype: float64, id\n",
       "653089      400.0\n",
       "653091      400.0\n",
       "653076      450.0\n",
       "653047     2225.0\n",
       "653057      350.0\n",
       "            ...  \n",
       "1338648    1300.0\n",
       "1338784    2700.0\n",
       "1339195     100.0\n",
       "1338802      50.0\n",
       "1338711    1825.0\n",
       "Name: funded_amount, Length: 123758, dtype: float64, id\n",
       "653062      400.0\n",
       "653050      575.0\n",
       "653059      250.0\n",
       "653227      250.0\n",
       "653203      250.0\n",
       "            ...  \n",
       "1338462     200.0\n",
       "1338627       0.0\n",
       "1338716    4025.0\n",
       "1338696    1850.0\n",
       "1339693      75.0\n",
       "Name: funded_amount, Length: 32480, dtype: float64, id\n",
       "653069      250.0\n",
       "653207     3000.0\n",
       "653274      250.0\n",
       "653093      925.0\n",
       "653278      250.0\n",
       "            ...  \n",
       "1336281     525.0\n",
       "1336286      25.0\n",
       "1337094     675.0\n",
       "1336946       0.0\n",
       "1338460       0.0\n",
       "Name: funded_amount, Length: 6194, dtype: float64, id\n",
       "653064      250.0\n",
       "653217     2200.0\n",
       "653234     2000.0\n",
       "653921      950.0\n",
       "654195     1400.0\n",
       "            ...  \n",
       "1338812     250.0\n",
       "1339110       0.0\n",
       "1338844       0.0\n",
       "1339703       0.0\n",
       "1339874       0.0\n",
       "Name: funded_amount, Length: 9172, dtype: float64, id\n",
       "653081      200.0\n",
       "653419     1175.0\n",
       "653417      425.0\n",
       "653342      475.0\n",
       "653266     1000.0\n",
       "            ...  \n",
       "1337875      50.0\n",
       "1338823     175.0\n",
       "1338821     325.0\n",
       "1338878     475.0\n",
       "1339831      50.0\n",
       "Name: funded_amount, Length: 30837, dtype: float64, id\n",
       "653432      550.0\n",
       "653188     1000.0\n",
       "653191     1500.0\n",
       "653186     1000.0\n",
       "653215      450.0\n",
       "            ...  \n",
       "1336305       0.0\n",
       "1336340       0.0\n",
       "1336479       0.0\n",
       "1336868       0.0\n",
       "1337940       0.0\n",
       "Name: funded_amount, Length: 36247, dtype: float64, id\n",
       "653290     4275.0\n",
       "653181     1500.0\n",
       "653216     2000.0\n",
       "653261     4275.0\n",
       "653112     1150.0\n",
       "            ...  \n",
       "1338561       0.0\n",
       "1338603       0.0\n",
       "1338573       0.0\n",
       "1338567       0.0\n",
       "1339686     100.0\n",
       "Name: funded_amount, Length: 33571, dtype: float64, id\n",
       "656205      400.0\n",
       "657140      525.0\n",
       "657498     2000.0\n",
       "657308      450.0\n",
       "658251      300.0\n",
       "            ...  \n",
       "1325258    1400.0\n",
       "1326378     300.0\n",
       "1331821     350.0\n",
       "1337050     100.0\n",
       "1340264       0.0\n",
       "Name: funded_amount, Length: 820, dtype: float64])"
      ]
     },
     "execution_count": 35,
     "metadata": {},
     "output_type": "execute_result"
    }
   ],
   "source": [
    "groups.values()"
   ]
  },
  {
   "cell_type": "code",
   "execution_count": 36,
   "id": "29b81d40",
   "metadata": {},
   "outputs": [
    {
     "data": {
      "text/plain": [
       "id\n",
       "653051      300.0\n",
       "653084      400.0\n",
       "653048      625.0\n",
       "653065      250.0\n",
       "653055      350.0\n",
       "            ...  \n",
       "1338707    2650.0\n",
       "1338799      50.0\n",
       "1338859       0.0\n",
       "1338682    3525.0\n",
       "1339743       0.0\n",
       "Name: funded_amount, Length: 135749, dtype: float64"
      ]
     },
     "execution_count": 36,
     "metadata": {},
     "output_type": "execute_result"
    }
   ],
   "source": [
    "## check one of the sectors in the dict\n",
    "groups['Food']"
   ]
  },
  {
   "cell_type": "markdown",
   "id": "31139f54",
   "metadata": {},
   "source": [
    "## 3. Testing Assumptions"
   ]
  },
  {
   "cell_type": "markdown",
   "id": "34626476",
   "metadata": {},
   "source": [
    "- No significant outliers\n",
    "- Normality\n",
    "- Equal Variance"
   ]
  },
  {
   "cell_type": "markdown",
   "id": "c1b834a8",
   "metadata": {},
   "source": [
    "### Checking Assumption of No Sig. Outliers"
   ]
  },
  {
   "cell_type": "code",
   "execution_count": 37,
   "id": "a32ad813",
   "metadata": {},
   "outputs": [
    {
     "name": "stdout",
     "output_type": "stream",
     "text": [
      "There were 3994 outliers in the Food group.\n",
      "There were 231 outliers in the Transportation group.\n",
      "There were 273 outliers in the Arts group.\n",
      "There were 1253 outliers in the Services group.\n",
      "There were 2478 outliers in the Agriculture group.\n",
      "There were 95 outliers in the Manufacturing group.\n",
      "There were 4 outliers in the Wholesale group.\n",
      "There were 3007 outliers in the Retail group.\n",
      "There were 857 outliers in the Clothing group.\n",
      "There were 151 outliers in the Construction group.\n",
      "There were 109 outliers in the Health group.\n",
      "There were 473 outliers in the Education group.\n",
      "There were 563 outliers in the Personal Use group.\n",
      "There were 590 outliers in the Housing group.\n",
      "There were 17 outliers in the Entertainment group.\n"
     ]
    }
   ],
   "source": [
    "## Loop through groups dict\n",
    "for sector_name,temp_df in groups.items():\n",
    "    ## determine if there are any outliers\n",
    "    outliers = np.abs(stats.zscore(temp_df))>3\n",
    "    \n",
    "    ## print a statement about how many outliers for which group name\n",
    "    print(f\"There were {outliers.sum()} outliers in the {sector_name} group.\")\n",
    "    \n",
    "    ## Remove the outiers from data and overwrite the sector data in the dict\n",
    "    temp_df = temp_df[~outliers]\n",
    "    \n",
    "    groups[sector_name] = temp_df"
   ]
  },
  {
   "cell_type": "markdown",
   "id": "13e13bdd",
   "metadata": {},
   "source": [
    "### Test for Normality"
   ]
  },
  {
   "cell_type": "code",
   "execution_count": 38,
   "id": "a0414c2c",
   "metadata": {},
   "outputs": [
    {
     "data": {
      "text/html": [
       "<div>\n",
       "<style scoped>\n",
       "    .dataframe tbody tr th:only-of-type {\n",
       "        vertical-align: middle;\n",
       "    }\n",
       "\n",
       "    .dataframe tbody tr th {\n",
       "        vertical-align: top;\n",
       "    }\n",
       "\n",
       "    .dataframe thead th {\n",
       "        text-align: right;\n",
       "    }\n",
       "</style>\n",
       "<table border=\"1\" class=\"dataframe\">\n",
       "  <thead>\n",
       "    <tr style=\"text-align: right;\">\n",
       "      <th></th>\n",
       "      <th>group</th>\n",
       "      <th>n</th>\n",
       "      <th>pval</th>\n",
       "      <th>sig?</th>\n",
       "    </tr>\n",
       "  </thead>\n",
       "  <tbody>\n",
       "    <tr>\n",
       "      <th>0</th>\n",
       "      <td>Food</td>\n",
       "      <td>131755</td>\n",
       "      <td>0.000000e+00</td>\n",
       "      <td>True</td>\n",
       "    </tr>\n",
       "    <tr>\n",
       "      <th>1</th>\n",
       "      <td>Transportation</td>\n",
       "      <td>15224</td>\n",
       "      <td>0.000000e+00</td>\n",
       "      <td>True</td>\n",
       "    </tr>\n",
       "    <tr>\n",
       "      <th>2</th>\n",
       "      <td>Arts</td>\n",
       "      <td>11721</td>\n",
       "      <td>0.000000e+00</td>\n",
       "      <td>True</td>\n",
       "    </tr>\n",
       "    <tr>\n",
       "      <th>3</th>\n",
       "      <td>Services</td>\n",
       "      <td>43446</td>\n",
       "      <td>0.000000e+00</td>\n",
       "      <td>True</td>\n",
       "    </tr>\n",
       "    <tr>\n",
       "      <th>4</th>\n",
       "      <td>Agriculture</td>\n",
       "      <td>176746</td>\n",
       "      <td>0.000000e+00</td>\n",
       "      <td>True</td>\n",
       "    </tr>\n",
       "    <tr>\n",
       "      <th>5</th>\n",
       "      <td>Manufacturing</td>\n",
       "      <td>6063</td>\n",
       "      <td>0.000000e+00</td>\n",
       "      <td>True</td>\n",
       "    </tr>\n",
       "    <tr>\n",
       "      <th>6</th>\n",
       "      <td>Wholesale</td>\n",
       "      <td>622</td>\n",
       "      <td>6.931789e-92</td>\n",
       "      <td>True</td>\n",
       "    </tr>\n",
       "    <tr>\n",
       "      <th>7</th>\n",
       "      <td>Retail</td>\n",
       "      <td>120751</td>\n",
       "      <td>0.000000e+00</td>\n",
       "      <td>True</td>\n",
       "    </tr>\n",
       "    <tr>\n",
       "      <th>8</th>\n",
       "      <td>Clothing</td>\n",
       "      <td>31623</td>\n",
       "      <td>0.000000e+00</td>\n",
       "      <td>True</td>\n",
       "    </tr>\n",
       "    <tr>\n",
       "      <th>9</th>\n",
       "      <td>Construction</td>\n",
       "      <td>6043</td>\n",
       "      <td>0.000000e+00</td>\n",
       "      <td>True</td>\n",
       "    </tr>\n",
       "    <tr>\n",
       "      <th>10</th>\n",
       "      <td>Health</td>\n",
       "      <td>9063</td>\n",
       "      <td>0.000000e+00</td>\n",
       "      <td>True</td>\n",
       "    </tr>\n",
       "    <tr>\n",
       "      <th>11</th>\n",
       "      <td>Education</td>\n",
       "      <td>30364</td>\n",
       "      <td>0.000000e+00</td>\n",
       "      <td>True</td>\n",
       "    </tr>\n",
       "    <tr>\n",
       "      <th>12</th>\n",
       "      <td>Personal Use</td>\n",
       "      <td>35684</td>\n",
       "      <td>0.000000e+00</td>\n",
       "      <td>True</td>\n",
       "    </tr>\n",
       "    <tr>\n",
       "      <th>13</th>\n",
       "      <td>Housing</td>\n",
       "      <td>32981</td>\n",
       "      <td>0.000000e+00</td>\n",
       "      <td>True</td>\n",
       "    </tr>\n",
       "    <tr>\n",
       "      <th>14</th>\n",
       "      <td>Entertainment</td>\n",
       "      <td>803</td>\n",
       "      <td>2.434681e-72</td>\n",
       "      <td>True</td>\n",
       "    </tr>\n",
       "  </tbody>\n",
       "</table>\n",
       "</div>"
      ],
      "text/plain": [
       "             group       n          pval  sig?\n",
       "0             Food  131755  0.000000e+00  True\n",
       "1   Transportation   15224  0.000000e+00  True\n",
       "2             Arts   11721  0.000000e+00  True\n",
       "3         Services   43446  0.000000e+00  True\n",
       "4      Agriculture  176746  0.000000e+00  True\n",
       "5    Manufacturing    6063  0.000000e+00  True\n",
       "6        Wholesale     622  6.931789e-92  True\n",
       "7           Retail  120751  0.000000e+00  True\n",
       "8         Clothing   31623  0.000000e+00  True\n",
       "9     Construction    6043  0.000000e+00  True\n",
       "10          Health    9063  0.000000e+00  True\n",
       "11       Education   30364  0.000000e+00  True\n",
       "12    Personal Use   35684  0.000000e+00  True\n",
       "13         Housing   32981  0.000000e+00  True\n",
       "14   Entertainment     803  2.434681e-72  True"
      ]
     },
     "execution_count": 38,
     "metadata": {},
     "output_type": "execute_result"
    }
   ],
   "source": [
    "## Running normal test on each group and confirming there are >20 in each group\n",
    "\n",
    "## Save a list with an inner list of column names\n",
    "norm_results = [['group','n','pval','sig?']]\n",
    "\n",
    "\n",
    "## loop through group dict\n",
    "for sector_name, temp_df in groups.items():\n",
    "    \n",
    "    ## calculate normaltest results\n",
    "    result = stats.normaltest(temp_df)\n",
    "    p = result.pvalue\n",
    "    n = len(temp_df)\n",
    "    \n",
    "    \n",
    "    ## Append the right info into norm_resutls (as a list)\n",
    "    norm_results.append( [sector_name, n, p, p<.05])\n",
    "    \n",
    "    \n",
    "## Make norm_results a dataframe (first row is columns, everything else data)\n",
    "norm_result_df = pd.DataFrame(norm_results[1:], columns=norm_results[0])\n",
    "norm_result_df"
   ]
  },
  {
   "cell_type": "markdown",
   "id": "c9babaef",
   "metadata": {},
   "source": [
    "- Did we meet the assumption?"
   ]
  },
  {
   "cell_type": "markdown",
   "id": "f243a55e",
   "metadata": {},
   "source": [
    "### Test for Equal Variances"
   ]
  },
  {
   "cell_type": "code",
   "execution_count": 39,
   "id": "47d696a2",
   "metadata": {},
   "outputs": [
    {
     "data": {
      "text/plain": [
       "['a', 'b', 'c', 1, 2, 3]"
      ]
     },
     "execution_count": 39,
     "metadata": {},
     "output_type": "execute_result"
    }
   ],
   "source": [
    "## DEMO: using the * operator to unpack lists\n",
    "a_list = ['a','b','c']\n",
    "b_list = [1,2,3]\n",
    "new_list= [*a_list, *b_list]\n",
    "new_list"
   ]
  },
  {
   "cell_type": "code",
   "execution_count": 40,
   "id": "4aa7d6a1",
   "metadata": {},
   "outputs": [
    {
     "data": {
      "text/plain": [
       "LeveneResult(statistic=941.8381341090084, pvalue=0.0)"
      ]
     },
     "execution_count": 40,
     "metadata": {},
     "output_type": "execute_result"
    }
   ],
   "source": [
    "## Use Levene's test for equal variance\n",
    "result = stats.levene(*groups.values())\n",
    "result"
   ]
  },
  {
   "cell_type": "code",
   "execution_count": 41,
   "id": "cf11dad4",
   "metadata": {
    "scrolled": true
   },
   "outputs": [
    {
     "name": "stdout",
     "output_type": "stream",
     "text": [
      "The groups DO NOT have equal variance\n"
     ]
    }
   ],
   "source": [
    "## Use an if-else to help interpret the p-value\n",
    "\n",
    "## Use an if-else to help interpret the p-value\n",
    "## Use an if-else to help interpret the p-value\n",
    "if result.pvalue <.05:\n",
    "    print('The groups DO NOT have equal variance')\n",
    "else:\n",
    "    print('The groups DO have equal variance')"
   ]
  },
  {
   "cell_type": "markdown",
   "id": "325cde49",
   "metadata": {},
   "source": [
    "- Did we meet the assumption?\n"
   ]
  },
  {
   "cell_type": "markdown",
   "id": "be52dca4",
   "metadata": {},
   "source": [
    "## Final Hypothesis Test"
   ]
  },
  {
   "cell_type": "markdown",
   "id": "b0e81240",
   "metadata": {},
   "source": [
    "- Did we meet our test's assumptions? \n",
    "    - If not, what is the alternative test?"
   ]
  },
  {
   "cell_type": "code",
   "execution_count": null,
   "id": "5ecec705",
   "metadata": {},
   "outputs": [],
   "source": [
    "## Run final test and get p-value\n"
   ]
  },
  {
   "cell_type": "markdown",
   "id": "e65818dc",
   "metadata": {},
   "source": [
    "- Interpret Results. Did we have a significant result?\n",
    "- Is a post-hoc test needed?"
   ]
  },
  {
   "cell_type": "markdown",
   "id": "2a8f8677",
   "metadata": {},
   "source": [
    "### Post-Hoc Multiple Comparison Test"
   ]
  },
  {
   "cell_type": "code",
   "execution_count": null,
   "id": "7a77b743",
   "metadata": {},
   "outputs": [],
   "source": [
    "## Post Hoc\n",
    "from statsmodels.stats.multicomp import pairwise_tukeyhsd"
   ]
  },
  {
   "cell_type": "markdown",
   "id": "4695814b",
   "metadata": {},
   "source": [
    "- Tukey's test requires a list of group names and a list of measured values. \n",
    "- Easiest way to produce and visualize this is to make our groups dict into a dataframe "
   ]
  },
  {
   "cell_type": "markdown",
   "id": "9960ab87",
   "metadata": {},
   "source": [
    "#### Testing Converting our Dictionary to a DataFrame"
   ]
  },
  {
   "cell_type": "code",
   "execution_count": null,
   "id": "289baa32",
   "metadata": {
    "scrolled": true
   },
   "outputs": [],
   "source": [
    "## slice a test sector\n",
    "temp = None\n"
   ]
  },
  {
   "cell_type": "code",
   "execution_count": null,
   "id": "ba09d1cd",
   "metadata": {
    "scrolled": true
   },
   "outputs": [],
   "source": [
    "## test making a dataframe from the test sector and filling in the sector name\n"
   ]
  },
  {
   "cell_type": "markdown",
   "id": "f86e79c8",
   "metadata": {},
   "source": [
    "#### Preparing the new dataframe for Tukey's test in a looop"
   ]
  },
  {
   "cell_type": "code",
   "execution_count": null,
   "id": "427cfe9b",
   "metadata": {
    "scrolled": true
   },
   "outputs": [],
   "source": [
    "## make a list for saving the dataframes to\n",
    "\n",
    "\n",
    "## Loop through groups dict's items\n",
    "\n",
    "\n",
    "    ## make a temp_df with the data and the sector name\n",
    "    \n",
    "    ## append to tukeys_dfs\n",
    "    \n",
    "## concatenate them into 1 dataframe    \n"
   ]
  },
  {
   "cell_type": "code",
   "execution_count": null,
   "id": "23d4e18d",
   "metadata": {
    "scrolled": false
   },
   "outputs": [],
   "source": [
    "## save the values as kg_lost and the labels to the Diet\n",
    "values = None\n",
    "labels = None\n",
    "\n",
    "## perform tukey's multiple comparison test and display the summary\n",
    "tukeys_results = None\n"
   ]
  },
  {
   "cell_type": "code",
   "execution_count": null,
   "id": "2dbb021c",
   "metadata": {},
   "outputs": [],
   "source": [
    "## optional -slicing out dataframe from results"
   ]
  },
  {
   "cell_type": "code",
   "execution_count": null,
   "id": "4f9e5cff",
   "metadata": {
    "scrolled": true
   },
   "outputs": [],
   "source": [
    "## make a barplot of final data to go with results\n"
   ]
  },
  {
   "cell_type": "code",
   "execution_count": null,
   "id": "a79d75fe",
   "metadata": {
    "scrolled": false
   },
   "outputs": [],
   "source": [
    "## also can use built-in plot tukeys_reuslts.plot_simultaneous\n"
   ]
  },
  {
   "cell_type": "markdown",
   "id": "e69374b6",
   "metadata": {},
   "source": [
    "- Final summary of group differences"
   ]
  }
 ],
 "metadata": {
  "kernelspec": {
   "display_name": "Python (dojo-env)",
   "language": "python",
   "name": "dojo-env"
  },
  "language_info": {
   "codemirror_mode": {
    "name": "ipython",
    "version": 3
   },
   "file_extension": ".py",
   "mimetype": "text/x-python",
   "name": "python",
   "nbconvert_exporter": "python",
   "pygments_lexer": "ipython3",
   "version": "3.8.13"
  },
  "toc": {
   "base_numbering": 1,
   "nav_menu": {},
   "number_sections": false,
   "sideBar": true,
   "skip_h1_title": false,
   "title_cell": "Table of Contents",
   "title_sidebar": "Contents",
   "toc_cell": false,
   "toc_position": {
    "height": "calc(100% - 180px)",
    "left": "10px",
    "top": "150px",
    "width": "299.188px"
   },
   "toc_section_display": true,
   "toc_window_display": true
  }
 },
 "nbformat": 4,
 "nbformat_minor": 5
}
